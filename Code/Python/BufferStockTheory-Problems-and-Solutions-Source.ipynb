{
 "cells": [
  {
   "cell_type": "markdown",
   "metadata": {},
   "source": [
    "# Theoretical Foundations of Buffer Stock Saving\n",
    "\n",
    "<cite data-cite=\"6202365/8AH9AXN2\"></cite>\n",
    "\n",
    "<p style=\"text-align: center;\"><small><small><small>Generator: BufferStockTheory-make/notebooks_byname</small></small></small></p>\n",
    "\n",
    "[![econ-ark.org](https://img.shields.io/badge/Powered%20by-Econ--ARK-3e8acc.svg)](https://econ-ark.org/materials/BufferStockTheory)\n"
   ]
  },
  {
   "cell_type": "markdown",
   "metadata": {},
   "source": [
    "<a id='interactive-dashboard'></a>\n",
    "\n",
    "[This notebook](https://econ-ark.org/BufferStockTheory/#launch) uses the [Econ-ARK/HARK](https://github.com/econ-ark/HARK) toolkit to reproduce and illustrate key results of the paper [Theoretical Foundations of Buffer Stock Saving](http://llorracc.github.io/BufferStockTheory/BufferStockTheory).\n",
    "\n",
    "#### An [interactive dashboard](https://econ-ark.org/BufferStockStockTheory/#Dashboard) allows you to modify parameters to see how the figures change. \n"
   ]
  },
  {
   "cell_type": "code",
   "execution_count": 1,
   "metadata": {
    "code_folding": [
     0
    ],
    "lines_to_next_cell": 1
   },
   "outputs": [],
   "source": [
    "# This cell does some standard python setup\n",
    "\n",
    "# Import related generic python packages\n",
    "import numpy as np\n",
    "from copy import deepcopy\n",
    "\n",
    "# Plotting tools\n",
    "import matplotlib.pyplot as plt\n",
    "\n",
    "# The warnings package allows us to ignore some harmless but alarming warning messages\n",
    "import warnings\n",
    "warnings.filterwarnings(\"ignore\")\n",
    "\n",
    "# Code to allow a master \"Generator\" and derived \"Generated\" versions\n",
    "#   - allows \"$nb-Problems-And-Solutions → $nb-Problems → $nb\"\n",
    "Generator=True # Is this notebook the master or is it generated?\n",
    "\n",
    "# Whether to save the figures to Figures_dir\n",
    "saveFigs=True\n",
    "\n",
    "# Whether to draw the figures\n",
    "drawFigs=True\n",
    "\n",
    "import HARK\n",
    "if HARK.__version__ < '0.10.6':\n",
    "    raise ImportError('This notebook requires at least econ-ark v0.10.6,  please update your installation pip install -U econ-ark or conda install -c conda-forge econ-ark')\n",
    "\n",
    "from HARK.utilities import find_gui, make_figs, determine_platform, test_latex_installation, setup_latex_env_notebook\n",
    "pf = determine_platform()\n",
    "try:\n",
    "    latexExists = test_latex_installation(pf)\n",
    "except ImportError: # windows and MacOS requires manual install\n",
    "    latexExists = False\n",
    "\n",
    "setup_latex_env_notebook(pf, latexExists)\n",
    "\n",
    "# check if GUI is present if not then switch drawFigs to False and force saveFigs to be True\n",
    "if not find_gui():\n",
    "    drawFigs = False\n",
    "    saveFigs = True\n",
    "\n",
    "# this can be removed if we pass in saveFigs and drawFigs in every call to make('figure')\n",
    "def make(figure_name, target_dir=\"../../Figures\"):\n",
    "    make_figs(figure_name, saveFigs, drawFigs, target_dir)"
   ]
  },
  {
   "cell_type": "code",
   "execution_count": 2,
   "metadata": {
    "lines_to_next_cell": 2
   },
   "outputs": [],
   "source": [
    "# Import HARK tools\n",
    "from HARK.ConsumptionSaving.ConsIndShockModel import IndShockConsumerType\n",
    "from HARK.utilities import plotFuncsDer, plotFuncs"
   ]
  },
  {
   "cell_type": "markdown",
   "metadata": {},
   "source": [
    "## [The Problem](http://llorracc.github.io/BufferStockTheory/BufferStockTheory/#The-Problem)\n",
    "\n",
    "The paper defines and calibrates a small set of parameters:\n",
    "\n",
    "| Parameter | Description | Code | Value |\n",
    "|:---:| ---         | ---  | :---: |\n",
    "| $\\PermGroFac$ | Permanent Income Growth Factor | $\\texttt{PermGroFac}$ | 1.03 |\n",
    "| $\\Rfree$ | Interest Factor | $\\texttt{Rfree}$ | 1.04 |\n",
    "| $\\DiscFac$ | Time Preference Factor | $\\texttt{DiscFac}$ | 0.96 |\n",
    "| $\\CRRA$ | Coeﬃcient of Relative Risk Aversion| $\\texttt{CRRA}$ | 2 |\n",
    "| $\\UnempPrb$ | Probability of Unemployment | $\\texttt{UnempPrb}$ | 0.005 |\n",
    "| $\\tranShk^{\\large u}$ | Income when Unemployed | $\\texttt{IncUnemp}$ | 0. |\n",
    "| $\\permShkStd$ | Std Dev of Log Permanent Shock| $\\texttt{PermShkStd}$ | 0.1 |\n",
    "| $\\TranShkStd$ | Std Dev of Log Transitory Shock| $\\texttt{TranShkStd}$ | 0.1 |\n",
    "\n",
    "that define the preferences and environment of microeconomic consumers as detailed below. \n",
    "\n",
    "The objective of such a consumer with a horizon of $n$ periods is to maximize the value obtained from the stream of consumption __**c**__ from period $t=T-n$ to a terminal period $T$:\n",
    "\n",
    "\\begin{equation}\n",
    "\\mathbf{v}_{t} = \\sum_{i=0}^{n} \\DiscFac^{n}\\mathrm{u}(\\mathbf{c}_{t+n}) \n",
    "\\end{equation}\n",
    "\n",
    "The infinite-horizon solution to the model is defined as the limit of the solution in the first period of life $\\mathrm{c}_{T-n}$ as the horizon $n$ goes to infinity."
   ]
  },
  {
   "cell_type": "markdown",
   "metadata": {},
   "source": [
    "### Details\n",
    "For a microeconomic consumer who begins period $t$ with __**m**__arket resources boldface $\\mLevBF_{t}$ (=net worth plus current income), the amount that remains after __**c**__onsumption of $\\cLevBF_{t}$ will be end-of-period __**a**__ssets $\\aLevBF_{t}$, \n",
    "\n",
    "<!-- Next period's 'Balances' $B_{t+1}$ reflect this period's $\\aLevBF_{t}$ augmented by return factor $R$:-->"
   ]
  },
  {
   "cell_type": "markdown",
   "metadata": {},
   "source": [
    "\\begin{eqnarray}\n",
    "\\aLevBF_{t}   &=&\\mLevBF_{t}-\\cLevBF_{t}. \\notag \n",
    "\\end{eqnarray}\n",
    "\n",
    "The consumer's __**p**__ermanent noncapital income $\\pLevBF$ grows by a predictable factor $\\PermGroFac$ and is subject to an unpredictable multiplicative shock $\\Ex_{t}[\\permShk_{t+1}]=1$,\n",
    "\n",
    "\\begin{eqnarray}\n",
    "\\pLevBF_{t+1} & = & \\pLevBF_{t} \\PermGroFac \\permShk_{t+1}, \\notag \n",
    "\\end{eqnarray}\n",
    "\n",
    "and, if the consumer is employed, actual income is permanent income multiplied by a transitory shock $\\tranShk^{\\large e}$.  There is also a probability $\\UnempPrb$ that the consumer will be temporarily unemployed and experience income of $\\tranShk^{\\large u}  = 0$.  We construct $\\tranShk^{\\large e}$ so that its mean value is $1/(1-\\UnempPrb)$ because in that case the mean level of the transitory shock (accounting for both unemployed and employed states) is exactly \n",
    "\n",
    "\\begin{eqnarray}\n",
    "\\Ex_{t}[\\tranShk_{t+1}] & = & \\tranShk^{\\large{u}}  \\times \\UnempPrb + (1-\\UnempPrb) \\times \\Ex_{t}[\\tranShk^{\\large{e}}_{t+1}] \\notag\n",
    "\\\\ & = & 0 \\times \\UnempPrb + (1-\\UnempPrb) \\times 1/(1-\\UnempPrb)  \\notag\n",
    "\\\\ & = & 1. \\notag\n",
    "\\end{eqnarray}\n",
    "\n",
    "  We can combine the unemployment shock $\\tranShk^{\\large u}$ and the transitory shock to employment income $\\tranShk^{\\large e}$ into $\\tranShk _{t+1}$, so that next period's market resources are\n",
    "\\begin{eqnarray}\n",
    "    \\mLevBF_{t+1} &=& \\aLevBF_{t}\\Rfree +\\pLevBF_{t+1}\\tranShk_{t+1}.  \\notag\n",
    "\\end{eqnarray}"
   ]
  },
  {
   "cell_type": "markdown",
   "metadata": {},
   "source": [
    "When the consumer has a CRRA utility function $u(\\cLevBF)=\\frac{\\cLevBF^{1-\\CRRA}}{1-\\CRRA}$, the paper shows that the problem can be written in terms of ratios (nonbold font) of level (bold font) variables to permanent income, e.g. $m_{t} \\equiv \\mLevBF_{t}/\\pLevBF_{t}$, and the Bellman form of [the problem reduces to](https://llorracc.github.io/BufferStockTheory/#The-Related-Problem):\n",
    "\n",
    "\\begin{eqnarray*}\n",
    "v_t(m_t) &=& \\max_{c_t}~~ u(c_t) + \\DiscFac~\\Ex_{t} [(\\PermGroFac\\permShk_{t+1})^{1-\\CRRA} v_{t+1}(m_{t+1}) ] \\\\\n",
    "& s.t. & \\\\\n",
    "a_t &=& m_t - c_t \\\\\n",
    "m_{t+1} &=& a_t \\Rfree/(\\PermGroFac \\permShk_{t+1}) + \\tranShk_{t+1} \\\\\n",
    "\\end{eqnarray*}"
   ]
  },
  {
   "cell_type": "code",
   "execution_count": 3,
   "metadata": {
    "code_folding": [],
    "lines_to_next_cell": 0
   },
   "outputs": [],
   "source": [
    "# Define a dictionary with baseline parameter values\n",
    "\n",
    "# Import default parameter values (init_idiosyncratic_shock)\n",
    "from HARK.ConsumptionSaving.ConsIndShockModel import init_idiosyncratic_shocks as base_params\n",
    "\n",
    "# Set the parameters for the baseline results in the paper\n",
    "# using the variable names defined in the cell above\n",
    "base_params['PermGroFac'] =                [1.03] # Permanent income growth factor\n",
    "base_params['Rfree']      = Rfree        =  1.04  # Interest factor on assets\n",
    "base_params['DiscFac']    = DiscFac      =  0.96  # Time Preference Factor\n",
    "base_params['CRRA']       = CRRA         =  2.00  # Coefficient of relative risk aversion\n",
    "base_params['UnempPrb']   = UnempPrb     =  0.005 # Probability of unemployment (e.g. Probability of Zero Income in the paper)\n",
    "base_params['IncUnemp']   = IncUnemp     =  0.0   # Induces natural borrowing constraint\n",
    "base_params['PermShkStd'] =                 [0.1]   # Standard deviation of log permanent income shocks\n",
    "base_params['TranShkStd'] =                 [0.1]   # Standard deviation of log transitory income shocks"
   ]
  },
  {
   "cell_type": "code",
   "execution_count": 4,
   "metadata": {
    "code_folding": [
     0
    ],
    "lines_to_next_cell": 0
   },
   "outputs": [],
   "source": [
    "# Uninteresting housekeeping and details\n",
    "# Make global variables for the things that were lists above -- uninteresting housekeeping\n",
    "PermGroFac, PermShkStd, TranShkStd = base_params['PermGroFac'][0],base_params['PermShkStd'][0],base_params['TranShkStd'][0]\n",
    "\n",
    "# Some technical settings that are not interesting for our purposes\n",
    "base_params['LivPrb']       = [1.0]   # 100 percent probability of living to next period\n",
    "base_params['CubicBool']    = True    # Use cubic spline interpolation\n",
    "base_params['T_cycle']      = 1       # No 'seasonal' cycles\n",
    "base_params['BoroCnstArt']  = None    # No artificial borrowing constraint"
   ]
  },
  {
   "cell_type": "markdown",
   "metadata": {},
   "source": [
    "## Convergence of the Consumption Rules\n",
    "\n",
    "Under the given parameter values, [the paper's first figure](https://llorracc.github.io/BufferStockTheory/#Convergence-of-the-Consumption-Rules) depicts the successive consumption rules that apply in the last period of life $(c_{T}(m))$, the second-to-last period, and earlier periods $(c_{T-n})$.  The consumption function to which these converge is $c(m)$:\n",
    "\n",
    "$$\n",
    "c(m) = \\lim_{n \\uparrow \\infty} c_{T-n}(m) \\notag\n",
    "$$\n"
   ]
  },
  {
   "cell_type": "code",
   "execution_count": 5,
   "metadata": {
    "code_folding": [
     0
    ],
    "lines_to_next_cell": 2
   },
   "outputs": [],
   "source": [
    "# Create a buffer stock consumer instance by invoking the IndShockConsumerType class\n",
    "# with the built-in parameter dictionary \"base_params\"\n",
    "\n",
    "# Construct finite horizon agent with baseline parameters\n",
    "baseAgent_Fin = IndShockConsumerType(**base_params)\n",
    "baseAgent_Fin.cycles = 100   # Set finite horizon (T = 100)\n",
    "\n",
    "baseAgent_Fin.solve()        # Solve the model\n",
    "baseAgent_Fin.unpack('cFunc')  # Make the consumption function easily accessible"
   ]
  },
  {
   "cell_type": "code",
   "execution_count": 6,
   "metadata": {
    "code_folding": [
     0
    ]
   },
   "outputs": [
    {
     "name": "stdout",
     "output_type": "stream",
     "text": [
      "Saving figure cFuncsConverge in ../../Figures\n"
     ]
    },
    {
     "data": {
      "image/png": "[encoded data removed]",
      "text/plain": [
       "<Figure size 864x648 with 1 Axes>"
      ]
     },
     "metadata": {},
     "output_type": "display_data"
    }
   ],
   "source": [
    "# Plot the different consumption rules for the different periods\n",
    "\n",
    "mPlotMin  = 0\n",
    "mLocCLabels = 9.6 # Defines horizontal limit of figure\n",
    "mPlotTop = 6.5    # Defines maximum m value where functions are plotted\n",
    "mPts  = 1000      # Number of points at which functions are evaluated\n",
    "\n",
    "mBelwLabels    = np.linspace(mPlotMin,mLocCLabels-0.1,mPts) # Range of m below loc of labels\n",
    "m_FullRange    = np.linspace(mPlotMin,mPlotTop,mPts)        # Full plot range \n",
    "c_Tm0  = m_FullRange                           # c_Tm0  defines the last period consumption rule (c=m)\n",
    "c_Tm1  = baseAgent_Fin.cFunc[ -2](mBelwLabels) # c_Tm1 defines the second-to-last period consumption rule\n",
    "c_Tm5  = baseAgent_Fin.cFunc[ -6](mBelwLabels) # c_Tm5 defines the T-5 period consumption rule\n",
    "c_Tm10 = baseAgent_Fin.cFunc[-11](mBelwLabels) # c_Tm10 defines the T-10 period consumption rule\n",
    "c_Limt = baseAgent_Fin.cFunc[  0](mBelwLabels) # c_Limt defines limiting inﬁnite-horizon consumption rule\n",
    "plt.figure(figsize = (12,9))\n",
    "plt.plot(mBelwLabels,c_Limt,color=\"black\")\n",
    "plt.plot(mBelwLabels,c_Tm1 ,color=\"black\")\n",
    "plt.plot(mBelwLabels,c_Tm5 ,color=\"black\")\n",
    "plt.plot(mBelwLabels,c_Tm10,color=\"black\")\n",
    "plt.plot(m_FullRange,c_Tm0 ,color=\"black\")\n",
    "plt.xlim(0,11)\n",
    "plt.ylim(0,7)\n",
    "plt.text(7.0,6.0,r'$c_{T   }(m) = 45$ degree line',fontsize = 22,fontweight='bold')\n",
    "plt.text(mLocCLabels,5.3,r'$c_{T-1 }(m)$',fontsize = 22,fontweight='bold')\n",
    "plt.text(mLocCLabels,2.6,r'$c_{T-5 }(m)$',fontsize = 22,fontweight='bold')\n",
    "plt.text(mLocCLabels,2.1,r'$c_{T-10}(m)$',fontsize = 22,fontweight='bold')\n",
    "plt.text(mLocCLabels,1.7,r'$c(m)       $',fontsize = 22,fontweight='bold')\n",
    "plt.arrow(6.9,6.05,-0.6,0,head_width= 0.1,width=0.001,facecolor='black',length_includes_head='True')\n",
    "plt.tick_params(labelbottom=False, labelleft=False,left='off',right='off',bottom='off',top='off')\n",
    "plt.text(0,7.05,\"$c$\",fontsize = 26)\n",
    "plt.text(11.1,0,\"$m$\",fontsize = 26)\n",
    "# Save the figures in several formats\n",
    "\n",
    "make('cFuncsConverge') # Comment out if you want to run uninterrupted"
   ]
  },
  {
   "cell_type": "markdown",
   "metadata": {
    "slideshow": {
     "slide_type": "slide"
    }
   },
   "source": [
    "Use the [interactive dashboard](#interactive-dashboard) to explore the effects of changes in patience, risk aversion, or risk"
   ]
  },
  {
   "cell_type": "markdown",
   "metadata": {
    "heading_collapsed": true
   },
   "source": [
    "### PROBLEM: Natural Borrowing Constraint Approaches Artificial Constraint\n",
    "\n",
    "Show numerically the result that is proven analytically in [The-Liquidity-Constrained-Solution-as-a-Limit](https://llorracc.github.io/BufferStockTheory/#The-Liquidity-Constrained-Solution-as-a-Limit), by solving the model for successively smaller values of $\\UnempPrb$.\n",
    "   * You need only to solve for the second-to-last period of life to do this\n",
    "      * `TwoPeriodModel = IndShockConsumerType(**base_params)`\n",
    "      * `TwoPeriodModel.cycles = 2   # Make this type have a two period horizon (Set T = 2)`\n",
    "\n",
    "   * You should show the consumption rules for different values of $\\UnempPrb$ on the same graph\n",
    "      * To make this easier, you will want to use the plotFuncs command:\n",
    "         * `from HARK.utilities import plotFuncsDer, plotFuncs`\n",
    "\n",
    "Create a cell or cells in the notebook below this cell and put your solution there; comment on the size of $\\UnempPrb$ needed to make the two models visually indistinguishable"
   ]
  },
  {
   "cell_type": "code",
   "execution_count": 7,
   "metadata": {
    "hidden": true
   },
   "outputs": [
    {
     "data": {
      "image/png": "[encoded data removed]",
      "text/plain": [
       "<Figure size 432x288 with 1 Axes>"
      ]
     },
     "metadata": {
      "needs_background": "light"
     },
     "output_type": "display_data"
    },
    {
     "name": "stdout",
     "output_type": "stream",
     "text": [
      "Drawing and storing solution\n"
     ]
    }
   ],
   "source": [
    "### SOLUTION\n",
    "\n",
    "# Turns out that we have to make the probability REALLY small\n",
    "\n",
    "# Construct solution for truly constrained consumer\n",
    "baseBoroCnst = deepcopy(base_params)\n",
    "baseBoroCnst['BoroCnstArt'] = 0.0 # Cannot borrow more than 0.0 of permanent income\n",
    "baseBoroCnst['IncUnemp']    = 0.3 # Assume unemployment insurance of 0.3 \n",
    "baseBoroCnstEx = IndShockConsumerType(**baseBoroCnst)\n",
    "baseBoroCnstEx.cycles = 2\n",
    "baseBoroCnstEx.solve()\n",
    "baseBoroCnstEx.unpack('cFunc')\n",
    "\n",
    "cFuncList=list() # Create empty list for storing consumption functions\n",
    "\n",
    "# Period [0]  is infinite horizon solution\n",
    "# Period [-1] is period-T solution (c=m)\n",
    "# Period [-2] is the first 'interesting' period (where constraint matters)\n",
    "cFuncList.append(baseBoroCnstEx.cFunc[-2]) # \n",
    "\n",
    "# Now set up unconstrained two period solution\n",
    "TwoPerAgent = IndShockConsumerType(**base_params)\n",
    "TwoPerAgent.cycles = 2     # Make this type have a two period horizon (Set T = 2)\n",
    "\n",
    "TwoPerAgent.solve()        # Solve the model under baseline parameter values\n",
    "TwoPerAgent.unpack('cFunc')  # Make the consumption function easily accessible\n",
    "\n",
    "# Consumption function for unconstrained\n",
    "cFuncList.append(TwoPerAgent.cFunc[-2])\n",
    "\n",
    "# Now consider three alternative values of unemployment probability\n",
    "UnempPrbList = [0.001,0.0001,0.00001]\n",
    "\n",
    "i = 0\n",
    "\n",
    "for UnempPrb in UnempPrbList:\n",
    "    TwoPerAgentNow=deepcopy(TwoPerAgent)\n",
    "    TwoPerAgentNow.UnempPrb=UnempPrb\n",
    "    TwoPerAgentNow.updateIncomeProcess() # After changing parameters, recompute distn\n",
    "    TwoPerAgentNow.solve()\n",
    "    TwoPerAgentNow.unpack('cFunc')\n",
    "    cFuncList.append(TwoPerAgentNow.cFunc[-2]) # Get the T-1 c function\n",
    "    i += 1\n",
    "\n",
    "# Zoom in on consumption function in a region near the BoroCnstArt kink point\n",
    "RangeAroundPermInc=0.5\n",
    "PermIncNorm=1\n",
    "plotFuncs(cFuncList,PermIncNorm-RangeAroundPermInc,PermIncNorm+RangeAroundPermInc)\n",
    "\n",
    "print('Drawing and storing solution')\n",
    "if drawFigs:\n",
    "    plt.show()\n",
    "plt.close()"
   ]
  },
  {
   "cell_type": "markdown",
   "metadata": {},
   "source": [
    "## Factors and Conditions\n",
    "\n",
    "### [The Finite Human Wealth Condition](http://llorracc.github.io/BufferStockTheory/#Human-Wealth)\n",
    "\n",
    "Human wealth for a perfect foresight consumer is the present discounted value of future income:\n",
    "\n",
    "\\begin{eqnarray}\\notag\n",
    "\\hLevBF_{t} & = & \\Ex_{t}[\\pLevBF_{t} + \\Rfree^{-1} \\pLevBF_{t+1} + \\Rfree^{2} \\pLevBF_{t+2} ... ] \\\\ \\notag \n",
    "      & = & \\pLevBF_{t} \\left(1 + (\\PermGroFac/\\Rfree) + (\\PermGroFac/\\Rfree)^{2} ... \\right) \n",
    "\\end{eqnarray}\n",
    "which approaches infinity as the horizon extends if $\\PermGroFac/\\Rfree \\geq 1$.  We say that the 'Finite Human Wealth Condition' [(FHWC)](https://llorracc.github.io/BufferStockTheory/#FHWC) holds if\n",
    "$0 \\leq (\\PermGroFac/\\Rfree) < 1$."
   ]
  },
  {
   "cell_type": "markdown",
   "metadata": {},
   "source": [
    "### [Absolute Patience and the AIC](https://llorracc.github.io/BufferStockTheory/#AIC)\n",
    "\n",
    "The paper defines the Absolute Patience Factor [(APF)](https://llorracc.github.io/BufferStockTheory/#APF) as being equal to the ratio $\\cLevBF_{t+1}/\\cLevBF_{t}$ for a perfect foresight consumer.  The Old English character <span style=\"font-size:larger;\">\"&#222;\"</span> used for this object in the paper cannot currently be rendered conveniently in Jupyter notebooks, so we will substitute $\\APF$ here:\n",
    "\n",
    "\\begin{equation}\n",
    "\\PatFac = (\\Rfree \\DiscFac)^{1/\\CRRA}\n",
    "\\end{equation}\n",
    "\n",
    "If $\\APF = 1$, a perfect foresight consumer will spend at exactly the level of $\\cLevBF$ that can be sustained perpetually (given their current and future resources).  If $\\APF < 1$ (the consumer is 'absolutely impatient'; or, 'the absolute impatience condition holds'), the consumer is consuming more than the sustainable amount, so consumption will fall, and if the consumer is 'absolutely patient' with $\\APF > 1$ consumption will grow over time.\n",
    "\n"
   ]
  },
  {
   "cell_type": "markdown",
   "metadata": {},
   "source": [
    "### [Growth Patience and the GIC](https://llorracc.github.io/BufferStockTheory/#GIC)\n",
    "\n",
    "For a [perfect foresight consumer](http://econ.jhu.edu/people/ccarroll/public/lecturenotes/consumption/PerfForesightCRRA), whether the ratio $c$=__**c**__/__**p**__ is rising, constant, or falling depends on the relative growth rates of consumption and permanent income; that ratio is measured by the [Perfect Foresight Growth Patience Factor](https://llorracc.github.io/BufferStockTheory/#PFGPF):\n",
    "\n",
    "\\begin{eqnarray}\n",
    "\\APF_{\\PermGroFac} & = & \\APF/\\PermGroFac\n",
    "\\end{eqnarray}\n",
    "and whether the $c$ is falling or rising over time depends on whether $\\APF_{\\PermGroFac}$ is below or above 1.\n",
    "\n",
    "An analogous condition can be defined when there is uncertainty about permanent income.  Defining $\\tilde{\\PermGroFac} = (\\Ex[\\permShk^{-1}])^{-1}\\PermGroFac$, the 'Growth Impatience Condition' [(GIC)](https://llorracc.github.io/BufferStockTheory/#GIC) determines whether, \\textit{in expectation}, the stochastic value of $c$ is rising, constant, or falling over time:\n",
    "\\begin{eqnarray}\n",
    "  \\APF/\\tilde{\\PermGroFac} & < & 1\n",
    "\\end{eqnarray}"
   ]
  },
  {
   "cell_type": "markdown",
   "metadata": {
    "lines_to_next_cell": 2
   },
   "source": [
    "### [The Finite Value of Autarky Condition (FVAC)](https://llorracc.github.io/BufferStockTheory/#Autarky-Value)"
   ]
  },
  {
   "cell_type": "markdown",
   "metadata": {},
   "source": [
    "The paper [shows](https://llorracc.github.io/BufferStockTheory/#Autarky-Value) that a consumer who planned to spend his permanent income $\\{ \\pLevBF_{t}, \\pLevBF_{t+1}, ...\\} $ in every period would have value defined by\n",
    "\n",
    "\\begin{equation*}\n",
    "\\vLevBF_{t}^{\\text{autarky}} = u(\\pLevBF_{t})\\left(\\frac{1}{1-\\DiscFac \\PermGroFac^{1-\\CRRA} \\Ex[\\permShk^{1-\\CRRA}]}\\right)\n",
    "\\end{equation*}\n",
    "\n",
    "and defines the 'Finite Value of Autarky Condition' as the requirement that the denominator be a positive finite number:\n",
    "\n",
    "\\begin{equation*}\n",
    "\\DiscFac \\PermGroFac^{1-\\CRRA} \\Ex[\\permShk^{1-\\CRRA}] < 1\n",
    "\\end{equation*}"
   ]
  },
  {
   "cell_type": "markdown",
   "metadata": {},
   "source": [
    "### [The Weak Return Impatience Condition (WRIC)](https://llorracc.github.io/BufferStockTheory/#WRIC)\n",
    "\n",
    "The [Return Impatience Condition](https://llorracc.github.io/BufferStockTheory/#RIC) $\\APF/\\Rfree < 1$ has long been understood to be required for the perfect foresight model to have a nondegenerate solution (a common special case is when $\\CRRA=1$; in this case $\\APF = \\Rfree \\DiscFac$ so $\\APF<1$ reduces to $\\DiscFac < \\Rfree$).  \n",
    "\n",
    "If the RIC does not hold, the consumer is so patient that the optimal consumption function approaches zero as the horizon extends indefinitely.\n",
    "\n",
    "When the probability of unemployment is $\\UnempPrb$, the paper articulates an analogous (but weaker) condition:\n",
    "\n",
    "\\begin{eqnarray}\n",
    " \\UnempPrb^{1/\\CRRA} \\APF/\\Rfree & < & 1\n",
    "\\end{eqnarray}"
   ]
  },
  {
   "cell_type": "markdown",
   "metadata": {},
   "source": [
    "# Key Results\n",
    "\n",
    "## [Nondegenerate Solution Requires FVAC and WRIC](https://llorracc.github.io/BufferStockTheory/#Sufficient-Conditions-For-Nondegenerate-Solution)\n",
    "\n",
    "A main result of the paper is that the conditions required for the model to have a nondegenerate solution ($0 < c(m) < \\infty$ for feasible $m$) are that the Finite Value of Autarky (FVAC) and Weak Return Impatience Condition (WRIC) hold."
   ]
  },
  {
   "cell_type": "markdown",
   "metadata": {},
   "source": [
    "## [Natural Borrowing Constraint limits to Artificial Borrowing Constraint](https://llorracc.github.io/BufferStockTheory/#The-Liquidity-Constrained-Solution-as-a-Limit)"
   ]
  },
  {
   "cell_type": "markdown",
   "metadata": {},
   "source": [
    "Defining $\\chi(\\UnempPrb)$ as the consumption function associated with any particular value of $\\UnempPrb$, and defining $\\hat{\\chi}$ as the consumption function that would apply in the absence of the zero-income shocks but in the presence of an 'artificial' borrowing constraint requiring $a \\geq 0$ (_a la_ Deaton (1991)), the paper shows that\n",
    "\n",
    "\\begin{eqnarray}\n",
    "\\lim_{\\UnempPrb \\downarrow 0}~\\chi(\\UnempPrb) & = & \\hat{\\chi}\n",
    "\\end{eqnarray}\n",
    "\n",
    "That is, as $\\UnempPrb$ approaches zero the problem with uncertainty becomes identical to the problem that instead has constraints.  (See [Precautionary Saving and Liquidity Constraints](https://llorracc.github.io/LiqConstr) for a full treatment of the relationship between precautionary saving and liquidity constraints)."
   ]
  },
  {
   "cell_type": "markdown",
   "metadata": {},
   "source": [
    "## [$c(m)$ can be Finite Even When Human Wealth Is Infinite](https://llorracc.github.io/BufferStockTheory/#When-The-GIC-Fails)\n",
    "\n",
    "In the perfect foresight model, if $\\Rfree < \\PermGroFac$ the PDV of future labor income approaches infinity and so the limiting consumption function is $c(m) = \\infty$ for all $m$.  Many models have no well-defined solution when human wealth is infinite.\n",
    "\n",
    "The presence of uncertainty changes this: Even when limiting human wealth is infinite, the limiting consumption function is finite for all values of $m$.\n",
    "\n",
    "This is because uncertainty imposes a \"natural borrowing constraint\" that deters the consumer from borrowing against their unbounded (but uncertain) future labor income."
   ]
  },
  {
   "cell_type": "markdown",
   "metadata": {},
   "source": [
    "A [table](https://llorracc.github.io/BufferStockTheory/#Sufficient-Conditions-For-Nondegenerate-Solution) puts this result in the context of implications of other conditions and restrictions.\n",
    "\n"
   ]
  },
  {
   "cell_type": "markdown",
   "metadata": {},
   "source": [
    "## [If the GIC Holds, $\\exists$ a finite 'target' $m$](https://llorracc.github.io/BufferStockTheory/#onetarget)\n",
    "\n",
    "Section [There Is Exactly One Target $m$ Ratio, Which Is Stable](https://llorracc.github.io/BufferStockTheory/#onetarget) shows that, under parameter values for which the limiting consumption function exists, if the GIC holds then there will be a value $\\Target{m}$ such that:\n",
    "\n",
    "\\begin{eqnarray*}\n",
    "\\Ex[m_{t+1}] & > & m_{t}~\\text{if $m_{t} < \\Target{m}$} \\\\\n",
    "\\Ex[m_{t+1}] & < & m_{t}~\\text{if $m_{t} > \\Target{m}$} \\\\\n",
    "\\Ex[m_{t+1}] & = & m_{t}~\\text{if $m_{t} = \\Target{m}$}\n",
    "\\end{eqnarray*}"
   ]
  },
  {
   "cell_type": "markdown",
   "metadata": {},
   "source": [
    "## [If the GIC Fails, Target Wealth is Infinite ](https://llorracc.github.io/BufferStockTheory/#The-GIC)\n",
    "\n",
    "[A figure](https://llorracc.github.io/BufferStockTheory/#FVACnotGIC) depicts a solution when the **FVAC** (Finite Value of Autarky Condition) and **WRIC** hold (so that the model has a solution) but the **GIC** (Growth Impatience Condition) fails.  In this case the target wealth ratio is infinity.\n",
    "\n",
    "The parameter values in this specific example are:\n",
    "\n",
    "| Param | Description | Code | Value |\n",
    "| :---: | ---         | ---  | :---: |\n",
    "| $\\PermGroFac$ | Permanent Income Growth Factor | $\\texttt{PermGroFac}$ | 1.00 |\n",
    "| $\\mathrm{\\Rfree}$ | Interest Factor | $\\texttt{Rfree}$ | 1.04 |\n"
   ]
  },
  {
   "cell_type": "code",
   "execution_count": 8,
   "metadata": {
    "code_folding": [],
    "lines_to_next_cell": 2
   },
   "outputs": [],
   "source": [
    "# Construct the \"GIC fails\" example.\n",
    "\n",
    "GIC_fails_dictionary = dict(base_params)\n",
    "GIC_fails_dictionary['Rfree']      = 1.04\n",
    "GIC_fails_dictionary['PermGroFac'] = [1.00]\n",
    "\n",
    "GICFailsExample = IndShockConsumerType(\n",
    "    cycles=0, # cycles=0 makes this an infinite horizon consumer\n",
    "    verbose=0, # by default, check conditions shouldn't print out any information\n",
    "    **GIC_fails_dictionary)"
   ]
  },
  {
   "cell_type": "markdown",
   "metadata": {},
   "source": [
    "The $\\mathtt{IndShockConsumerType}$ tool automatically checks various parametric conditions, and will give a warning as well as the values of the factors if key conditions fail to be met.\n",
    "\n",
    "We can also directly check the conditions, asking for the maximum verbosity:"
   ]
  },
  {
   "cell_type": "code",
   "execution_count": 9,
   "metadata": {
    "code_folding": [],
    "scrolled": true
   },
   "outputs": [
    {
     "name": "stderr",
     "output_type": "stream",
     "text": [
      "The Finite Human Wealth Factor value for the supplied parameter values satisfies the Finite Human Wealth Condition.\n",
      "\n",
      "The given parameter values violate the Individual Growth Impatience Condition; the GPFInd is: 1.0085754579497024\n",
      " Therefore, a target ratio of individual market resources to individual permanent income may not exist.  (see https://llorracc.github.io/BufferStockTheory/#onetarget for more).\n",
      "\n",
      "\n",
      "The value of the Aggregate Growth Patience Factor for the supplied parameter values satisfies the Aggregate Growth Impatience Condition; the value of the GPFAgg is: 0.9991996797437437\n",
      "  Therefore, a target level of the ratio of aggregate market resources to aggregate permanent income exists.\n",
      "\n",
      "The value of the Return Patience Factor for the supplied parameter values satisfies the Return Impatience Condition.\n",
      "  Therefore, the limiting consumption function is not c(m)=0 for all m\n",
      "\n",
      "The Weak Return Patience Factor value for the supplied parameter values satisfies the Weak Return Impatience Condition; the WRPF is 0.06793662204867575.\n",
      "  Therefore, a nondegenerate solution exists if the FVAC is also satisfied.  (see https://llorracc.github.io/BufferStockTheory/#WRIC for more) \n",
      "\n",
      "\n",
      "The Finite Value of Autarky Factor (FVAV) for the supplied parameter values satisfies the Finite Value of Autarky Condition; the FVAF is 0.9690079563276367\n",
      "  Therefore, a nondegenerate solution exists if the WRIC also holds; see https://llorracc.github.io/BufferStockTheory/#Conditions-Under-Which-the-Problem-Defines-a-Contraction-Mapping\n",
      "\n",
      "FHWF             = 0.961538 \n",
      "RPF              = 0.960769 \n",
      "GPFPF            = 0.999200 \n",
      "GPFInd           = 1.008575 \n",
      "GPFAgg           = 0.999200 \n",
      "Thorn = APF      = 0.999200 \n",
      "PermGroFacAdj    = 0.990704 \n",
      "uInvEpShkuInv    = 0.990704 \n",
      "FVAF             = 0.969008 \n",
      "WRPF             = 0.067937 \n",
      "DiscFacGPFIndMax = 0.943745 \n",
      "DiscFacGPFAggMax = 0.961538 \n"
     ]
    }
   ],
   "source": [
    "# The checkConditions method does what it sounds like it would\n",
    "# verbose=0: Print nothing;\n",
    "# verbose=3: Print all available info\n",
    "GICFailsExample.checkConditions(verbose=3)"
   ]
  },
  {
   "cell_type": "markdown",
   "metadata": {},
   "source": [
    "### The Sustainable Level of Consumption\n",
    "\n",
    "Next we define the $\\mathrm{\\Ex}_{t}[\\Delta m_{t+1}]=0$ locus that shows the ‘sustainable’ level of spending at which $m$ is expected to remain unchanged."
   ]
  },
  {
   "cell_type": "code",
   "execution_count": 10,
   "metadata": {
    "code_folding": [
     0
    ]
   },
   "outputs": [],
   "source": [
    "# Calculate \"Sustainable\" consumption that leaves expected m unchanged\n",
    "# In the perfect foresight case, this is just permanent income plus interest income\n",
    "# A small adjustment is required to take account of the consequences of uncertainty\n",
    "# See \"Growth Patience and the GIC\" above\n",
    "\n",
    "# Get calibrated parameters to make code more readable\n",
    "LivPrb=baseAgent_Fin.LivPrb[0]\n",
    "Rfree=baseAgent_Fin.Rfree\n",
    "DiscFac=baseAgent_Fin.DiscFac\n",
    "CRRA=baseAgent_Fin.CRRA\n",
    "\n",
    "permShkPrbs=GICFailsExample.PermShkDstn[0].pmf\n",
    "permShkVals=GICFailsExample.PermShkDstn[0].X\n",
    "EPermGroFac=GICFailsExample.PermGroFac[0]\n",
    "\n",
    "# np.dot multiplies vectors; probability times value for each outcome is expectation\n",
    "EpermShkInv   = np.dot(permShkPrbs, permShkVals**(-1))    # $   \\Ex[\\permShk^{-1}]      $\n",
    "InvEpermShkInv= (EpermShkInv) ** (-1)                     # $  (\\Ex[\\permShk^{-1}])^{-1}$\n",
    "PermGroFac    = EPermGroFac * InvEpermShkInv               # Uncertainty-adjusted permanent growth factor\n",
    "ERNrmFac      = Rfree / PermGroFac                        # Interest factor normalized by uncertainty-adjusted growth\n",
    "ErNrmRte      = ERNrmFac - 1                              # Interest rate is interest factor - 1\n",
    "# \"sustainable\" C = P + (discounted) interest income\n",
    "# \"sustainable\" c = 1 + (discounted, normalized) interest income\n",
    "EmDelEq0      = lambda m : 1 + (m-1)*(ErNrmRte/ERNrmFac)  # \"sustainable\" c where E[Δ m] = 0"
   ]
  },
  {
   "cell_type": "code",
   "execution_count": 11,
   "metadata": {
    "code_folding": []
   },
   "outputs": [
    {
     "name": "stdout",
     "output_type": "stream",
     "text": [
      "Saving figure FVACnotGIC in ../../Figures\n"
     ]
    },
    {
     "data": {
      "image/png": "[encoded data removed]",
      "text/plain": [
       "<Figure size 864x576 with 1 Axes>"
      ]
     },
     "metadata": {},
     "output_type": "display_data"
    }
   ],
   "source": [
    "# Plot GICFailsExample consumption function against the sustainable level of consumption\n",
    "\n",
    "GICFailsExample.solve()        # Above, we set up the problem but did not solve it\n",
    "GICFailsExample.unpack('cFunc')  # Make the consumption function easily accessible for plotting\n",
    "m = np.linspace(mPlotMin,5,mPts)\n",
    "c_Limt = GICFailsExample.cFunc[0](m)\n",
    "c_Sstn = EmDelEq0(m) # \"sustainable\" consumption\n",
    "plt.figure(figsize = (12,8))\n",
    "plt.plot(m,c_Limt,color=\"black\")\n",
    "plt.plot(m,c_Sstn,color=\"black\")\n",
    "plt.xlim(0,5.5)\n",
    "plt.ylim(0,1.6)\n",
    "plt.text(0,1.63,\"$c$\",fontsize = 26)\n",
    "plt.text(5.55,0,\"$m$\",fontsize = 26)\n",
    "plt.tick_params(labelbottom=False, labelleft=False,left='off',right='off',bottom='off',top='off')\n",
    "plt.text(1,0.6,\"$c(m_{t})$\",fontsize = 18)\n",
    "if latexExists:\n",
    "    plt.text(1.5,1.2,\"$\\Ex_{t}[\\Delta m_{t+1}] = 0$\",fontsize = 22)\n",
    "else:\n",
    "    plt.text(1.5,1.2,\"$\\mathsf{E}_{t}[\\Delta m_{t+1}] = 0$\",fontsize = 22)\n",
    "\n",
    "plt.arrow(0.98,0.62,-0.2,0,head_width= 0.02,width=0.001,facecolor='black',length_includes_head='True')\n",
    "plt.arrow(2.2,1.2,0.3,-0.05,head_width= 0.02,width=0.001,facecolor='black',length_includes_head='True')\n",
    "\n",
    "make('FVACnotGIC') # Save figures (if appropriate/possible)"
   ]
  },
  {
   "cell_type": "markdown",
   "metadata": {},
   "source": [
    "In the [interactive dashboard](#interactive-dashboard), see what happens as changes in the time preference rate (or changes in risk $\\PermShkStd$) change the consumer from _growth-patient_ $(\\APF > \\tilde{\\PermGroFac})$ to _growth-impatient_ ($\\APF < \\tilde{\\PermGroFac}$)"
   ]
  },
  {
   "cell_type": "code",
   "execution_count": 12,
   "metadata": {
    "lines_to_next_cell": 2,
    "scrolled": true
   },
   "outputs": [
    {
     "name": "stderr",
     "output_type": "stream",
     "text": [
      "The Finite Human Wealth Factor value for the supplied parameter values satisfies the Finite Human Wealth Condition.\n",
      "\n",
      "The given parameter values violate the Individual Growth Impatience Condition; the GPFInd is: 1.0085754579497024\n",
      " Therefore, a target ratio of individual market resources to individual permanent income may not exist.  (see https://llorracc.github.io/BufferStockTheory/#onetarget for more).\n",
      "\n",
      "\n",
      "The value of the Aggregate Growth Patience Factor for the supplied parameter values satisfies the Aggregate Growth Impatience Condition; the value of the GPFAgg is: 0.9991996797437437\n",
      "  Therefore, a target level of the ratio of aggregate market resources to aggregate permanent income exists.\n",
      "\n",
      "The value of the Return Patience Factor for the supplied parameter values satisfies the Return Impatience Condition.\n",
      "  Therefore, the limiting consumption function is not c(m)=0 for all m\n",
      "\n",
      "The Weak Return Patience Factor value for the supplied parameter values satisfies the Weak Return Impatience Condition; the WRPF is 0.06793662204867575.\n",
      "  Therefore, a nondegenerate solution exists if the FVAC is also satisfied.  (see https://llorracc.github.io/BufferStockTheory/#WRIC for more) \n",
      "\n",
      "\n",
      "The Finite Value of Autarky Factor (FVAV) for the supplied parameter values satisfies the Finite Value of Autarky Condition; the FVAF is 0.9690079563276367\n",
      "  Therefore, a nondegenerate solution exists if the WRIC also holds; see https://llorracc.github.io/BufferStockTheory/#Conditions-Under-Which-the-Problem-Defines-a-Contraction-Mapping\n",
      "\n",
      "FHWF             = 0.961538 \n",
      "RPF              = 0.960769 \n",
      "GPFPF            = 0.999200 \n",
      "GPFInd           = 1.008575 \n",
      "GPFAgg           = 0.999200 \n",
      "Thorn = APF      = 0.999200 \n",
      "PermGroFacAdj    = 0.990704 \n",
      "uInvEpShkuInv    = 0.990704 \n",
      "FVAF             = 0.969008 \n",
      "WRPF             = 0.067937 \n",
      "DiscFacGPFIndMax = 0.943745 \n",
      "DiscFacGPFAggMax = 0.961538 \n"
     ]
    }
   ],
   "source": [
    "# Conditions can also be checked without solving the model\n",
    "# verbose=0: Print nothing\n",
    "# verbose=3: Print all available results\n",
    "GICFailsExample.checkConditions(verbose=3)  "
   ]
  },
  {
   "cell_type": "markdown",
   "metadata": {},
   "source": [
    "As a foundation for the remaining figures, we define another instance of the class $\\texttt{IndShockConsumerType}$, which has the same parameter values as the instance $\\texttt{baseAgent}$ defined previously but is solved to convergence (our definition of an infinite horizon agent type) instead of only 100 periods\n"
   ]
  },
  {
   "cell_type": "code",
   "execution_count": null,
   "metadata": {
    "lines_to_next_cell": 1
   },
   "outputs": [],
   "source": [
    "# cycles=0 tells the solver to find the infinite horizon solution\n",
    "baseAgent_Inf = IndShockConsumerType(cycles=0,verbose=0, **base_params)\n",
    "\n",
    "baseAgent_Inf.solve()\n",
    "baseAgent_Inf.unpack('cFunc')"
   ]
  },
  {
   "cell_type": "markdown",
   "metadata": {},
   "source": [
    "### [Target $m$, Expected Consumption Growth, and Permanent Income Growth](https://econ.jhu.edu/people/ccarroll/papers/BufferStockTheory/#AnalysisoftheConvergedConsumptionFunction)\n",
    "\n",
    "The next figure, [Analysis of the Converged Consumption Function](https://econ.jhu.edu/people/ccarroll/papers/BufferStockTheory/#cGroTargetFig), shows the expected consumption growth factor $\\mathrm{\\Ex}_{t}[\\cLevBF_{t+1}/\\cLevBF_{t}]$ for a consumer behaving according to the converged consumption rule.\n",
    "\n",
    "Conveniently, this can be computed without knowing the _level_ of the consumer's income:\n",
    "\n",
    "\\begin{eqnarray}\n",
    "\\Ex_{t}[\\cLevBF_{t+1}/\\cLevBF_{t}] & = & \\Ex_{t}\\left[\\frac{\\pLevBF_{t+1}\\cRat_{t+1}(m_{t+1})}{\\pLevBF_{t}\\cRat_{t}(m_{t})}\\right] \\\\ \n",
    "& = & \\Ex_{t}\\left[\\frac{\\PermGroFac \\permShk_{t+1} \\pLevBF_{t}}{\\pLevBF_{t}}\\frac{\\cRat_{t+1}(m_{t+1})}{\\cRat_{t}(m_{t})}\\right] \\\\\n",
    "& = & \\Ex_{t}\\left[\\frac{\\PermGroFac \\permShk_{t+1} \\cRat_{t+1}(m_{t+1})}{\\cRat_{t}(m_{t})}\\right] \n",
    "\\end{eqnarray}\n"
   ]
  },
  {
   "cell_type": "code",
   "execution_count": null,
   "metadata": {
    "code_folding": [
     0
    ],
    "lines_to_next_cell": 1
   },
   "outputs": [],
   "source": [
    "# Def a function to calc ratio of cLev_{t+1} to p_{t}\n",
    "def EcLev_tp1_Over_p_t(a):\n",
    "    '''\n",
    "    Taking end-of-period assets a as input, return ratio of expectation \n",
    "    of next period's consumption to this period's permanent income \n",
    "\n",
    "    Inputs:\n",
    "       a: end-of-period assets\n",
    "    Returns:\n",
    "       EcLev_tp1_Over_p_{t}: next period's expected c level / current p\n",
    "    '''\n",
    "    # Extract parameter values to make code more readable\n",
    "    permShkVals=baseAgent_Inf.PermShkDstn[0].X\n",
    "    tranShkVals=baseAgent_Inf.TranShkDstn[0].X\n",
    "    permShkPrbs=baseAgent_Inf.PermShkDstn[0].pmf\n",
    "    tranShkPrbs=baseAgent_Inf.TranShkDstn[0].pmf\n",
    "    Rfree      =baseAgent_Inf.Rfree\n",
    "    EPermGroFac=baseAgent_Inf.PermGroFac[0]\n",
    "    \n",
    "    PermGrowFac_tp1 = EPermGroFac*permShkVals # Nonstochastic growth times idiosyncratic permShk\n",
    "    RNrmFac_tp1     = Rfree / PermGrowFac_tp1 # Growth-normalized interest factor \n",
    "    # 'bank balances' b = end-of-last-period assets times normalized return factor\n",
    "    b_tp1 = RNrmFac_tp1*a\n",
    "    # expand dims of b_tp1 and use broadcasted sum of a column and a row vector\n",
    "    # to obtain a matrix of possible market resources next period\n",
    "    # because matrix mult is much much faster than looping to calc E\n",
    "    m_tp1_GivenTranAndPermShks = np.expand_dims(b_tp1, axis=1) + tranShkVals\n",
    "    # List of possible values of $\\mathbf{c}_{t+1}$ (Transposed by .T)\n",
    "    cRat_tp1_GivenTranAndPermShks = baseAgent_Inf.cFunc[0](m_tp1_GivenTranAndPermShks).T\n",
    "    cLev_tp1_GivenTranAndPermShks = cRat_tp1_GivenTranAndPermShks*PermGrowFac_tp1\n",
    "    # compute expectation over perm shocks by right multiplying with probs\n",
    "    EOverPShks_cLev_tp1_GivenTranShkShks = np.dot(cLev_tp1_GivenTranAndPermShks, permShkPrbs)\n",
    "    # finish expectation over trans shocks by right multiplying with probs\n",
    "    EcLev_tp1_Over_p_t = np.dot(EOverPShks_cLev_tp1_GivenTranShkShks, tranShkPrbs)\n",
    "    # return expected consumption\n",
    "    return EcLev_tp1_Over_p_t"
   ]
  },
  {
   "cell_type": "code",
   "execution_count": null,
   "metadata": {
    "lines_to_next_cell": 1
   },
   "outputs": [],
   "source": [
    "# Calculate the expected consumption growth factor\n",
    "# mBelwTrg defines the plot range on the left of target m value (e.g. m <= target m)\n",
    "mNrmTrg=baseAgent_Inf.solution[0].mNrmSS\n",
    "mBelwTrg = np.linspace(1,mNrmTrg,50) \n",
    "c_For_mBelwTrg = baseAgent_Inf.cFunc[0](mBelwTrg)\n",
    "a_For_mBelwTrg = mBelwTrg-c_For_mBelwTrg\n",
    "EcLev_tp1_Over_p_t_For_mBelwTrg = [EcLev_tp1_Over_p_t(i) for i in a_For_mBelwTrg]\n",
    "\n",
    "# mAbveTrg defines the plot range on the right of target m value (e.g. m >= target m)\n",
    "mAbveTrg = np.linspace(mNrmTrg,1.9,50)\n",
    "\n",
    "# EcGro_For_mAbveTrg: E [consumption growth factor] when m_{t} is below target m\n",
    "EcGro_For_mBelwTrg = np.array(EcLev_tp1_Over_p_t_For_mBelwTrg)/c_For_mBelwTrg\n",
    "\n",
    "c_For_mAbveTrg = baseAgent_Inf.cFunc[0](mAbveTrg)\n",
    "a_For_mAbveTrg = mAbveTrg-c_For_mAbveTrg\n",
    "EcLev_tp1_Over_p_t_For_mAbveTrg = [EcLev_tp1_Over_p_t(i) for i in a_For_mAbveTrg]\n",
    "\n",
    "# EcGro_For_mAbveTrg: E [consumption growth factor] when m_{t} is bigger than target m_{t}\n",
    "EcGro_For_mAbveTrg = np.array(EcLev_tp1_Over_p_t_For_mAbveTrg)/c_For_mAbveTrg "
   ]
  },
  {
   "cell_type": "code",
   "execution_count": null,
   "metadata": {
    "code_folding": [
     0
    ]
   },
   "outputs": [],
   "source": [
    "# Define a function to construct the arrows on the consumption growth rate function\n",
    "def arrowplot(axes, x, y, narrs=15, dspace=0.5, direc='neg',\n",
    "              hl=0.01, hw=3, c='black'):\n",
    "    '''\n",
    "    The function is used to plot arrows given the data x and y.\n",
    "\n",
    "    Input:\n",
    "        narrs  :  Number of arrows that will be drawn along the curve\n",
    "\n",
    "        dspace :  Shift the position of the arrows along the curve.\n",
    "                  Should be between 0. and 1.\n",
    "\n",
    "        direc  :  can be 'pos' or 'neg' to select direction of the arrows\n",
    "\n",
    "        hl     :  length of the arrow head\n",
    "\n",
    "        hw     :  width of the arrow head\n",
    "\n",
    "        c      :  color of the edge and face of the arrow head\n",
    "    '''\n",
    "\n",
    "    # r is the distance spanned between pairs of points\n",
    "    r = np.sqrt(np.diff(x)**2+np.diff(y)**2)\n",
    "    r = np.insert(r, 0, 0.0)\n",
    "\n",
    "    # rtot is a cumulative sum of r, it's used to save time\n",
    "    rtot = np.cumsum(r)\n",
    "\n",
    "    # based on narrs set the arrow spacing\n",
    "    aspace = r.sum() / narrs\n",
    "\n",
    "    if direc is 'neg':\n",
    "        dspace = -1.*abs(dspace)\n",
    "    else:\n",
    "        dspace = abs(dspace)\n",
    "\n",
    "    arrowData = list() # will hold tuples of x,y,theta for each arrow\n",
    "    arrowPos = aspace*(dspace) # current point on walk along data\n",
    "                                 # could set arrowPos to 0 if you want\n",
    "                                 # an arrow at the beginning of the curve\n",
    "\n",
    "    ndrawn = 0\n",
    "    rcount = 1\n",
    "    while arrowPos < r.sum() and ndrawn < narrs:\n",
    "        x1,x2 = x[rcount-1],x[rcount]\n",
    "        y1,y2 = y[rcount-1],y[rcount]\n",
    "        da = arrowPos-rtot[rcount]\n",
    "        theta = np.arctan2((x2-x1),(y2-y1))\n",
    "        ax = np.sin(theta)*da+x1\n",
    "        ay = np.cos(theta)*da+y1\n",
    "        arrowData.append((ax,ay,theta))\n",
    "        ndrawn += 1\n",
    "        arrowPos+=aspace\n",
    "        while arrowPos > rtot[rcount+1]:\n",
    "            rcount+=1\n",
    "            if arrowPos > rtot[-1]:\n",
    "                break\n",
    "\n",
    "    for ax,ay,theta in arrowData:\n",
    "        # use aspace as a guide for size and length of things\n",
    "        # scaling factors were chosen by experimenting a bit\n",
    "\n",
    "        dx0 = np.sin(theta)*hl/2.0 + ax\n",
    "        dy0 = np.cos(theta)*hl/2.0 + ay\n",
    "        dx1 = -1.*np.sin(theta)*hl/2.0 + ax\n",
    "        dy1 = -1.*np.cos(theta)*hl/2.0 + ay\n",
    "\n",
    "        if direc is 'neg' :\n",
    "            ax0 = dx0\n",
    "            ay0 = dy0\n",
    "            ax1 = dx1\n",
    "            ay1 = dy1\n",
    "        else:\n",
    "            ax0 = dx1\n",
    "            ay0 = dy1\n",
    "            ax1 = dx0\n",
    "            ay1 = dy0\n",
    "\n",
    "        axes.annotate('', xy=(ax0, ay0), xycoords='data',\n",
    "                xytext=(ax1, ay1), textcoords='data',\n",
    "                arrowprops=dict( headwidth=hw, frac=1., ec=c, fc=c))"
   ]
  },
  {
   "cell_type": "code",
   "execution_count": null,
   "metadata": {
    "code_folding": [
     0
    ],
    "lines_to_next_cell": 2
   },
   "outputs": [],
   "source": [
    "# Plot consumption growth as a function of market resources\n",
    "\n",
    "# Retrieve parameters (makes code readable)\n",
    "Rfree      = baseAgent_Inf.Rfree\n",
    "DiscFac    = baseAgent_Inf.DiscFac\n",
    "CRRA       = baseAgent_Inf.CRRA\n",
    "EPermGroFac= baseAgent_Inf.PermGroFac[0]\n",
    "mNrmTrg    = baseAgent_Inf.solution[0].mNrmSS\n",
    "\n",
    "# Calculate Absolute Patience Factor Phi = lower bound of consumption growth factor\n",
    "APF = (Rfree*DiscFac)**(1.0/CRRA)\n",
    "\n",
    "fig = plt.figure(figsize = (12,8))\n",
    "ax  = fig.add_subplot(111)\n",
    "# Plot the Absolute Patience Factor line\n",
    "ax.plot([0,1.9],[APF,APF],color=\"black\")\n",
    "\n",
    "# Plot the Permanent Income Growth Factor line\n",
    "ax.plot([0,1.9],[EPermGroFac,EPermGroFac],color=\"black\")\n",
    "\n",
    "# Plot the expected consumption growth factor on the left side of target m\n",
    "ax.plot(mBelwTrg,EcGro_For_mBelwTrg,color=\"black\")\n",
    "\n",
    "# Plot the expected consumption growth factor on the right side of target m\n",
    "ax.plot(mAbveTrg,EcGro_For_mAbveTrg,color=\"black\")\n",
    "\n",
    "# Plot the arrows\n",
    "arrowplot(ax, mBelwTrg,EcGro_For_mBelwTrg)\n",
    "arrowplot(ax, mAbveTrg,EcGro_For_mAbveTrg, direc='pos')\n",
    "fsbig=26\n",
    "fsmid=22\n",
    "\n",
    "# Plot the target m\n",
    "ax.plot([mNrmTrg,mNrmTrg],[0,1.4],color=\"black\",linestyle=\"--\")\n",
    "ax.set_xlim(1,2.10)\n",
    "ax.set_ylim(0.98,1.08)\n",
    "ax.text(1,1.082,r'$\\text{Growth Rate}$',fontsize = fsbig,fontweight='bold')\n",
    "ax.text(2.105,0.975,\"$m_{t}$\",fontsize = fsbig,fontweight='bold')\n",
    "if latexExists:\n",
    "    ax.text(1.91,1.01,\"$\\Ex_{t}[\\cLevBF_{t+1}/\\cLevBF_{t}]$\",fontsize = fsmid,fontweight='bold')\n",
    "else:\n",
    "    ax.text(1.91,1.01,\"$\\mathsf{E}_{t}[\\mathbf{c}_{t+1}/\\mathbf{c}_{t}]$\",fontsize = fsmid,fontweight='bold')\n",
    "ax.text(mNrmTrg-0.02,0.974, r'$\\check{m}$', fontsize = fsbig,fontweight='bold')\n",
    "ax.tick_params(labelbottom=False, labelleft=False,left='off',right='off',bottom='off',top='off')\n",
    "if latexExists:\n",
    "    ax.text(1.91,0.998,r'$\\pmb{\\text{\\TH}} = (\\Rfree\\DiscFac)^{1/\\CRRA}$',fontsize = fsmid,fontweight='bold')\n",
    "else:\n",
    "    ax.text(1.91,0.998,r'$\\Phi = (\\mathsf{\\Rfree}\\DiscFac)^{1/\\CRRA}$',fontsize = fsmid,fontweight='bold')\n",
    "\n",
    "ax.text(1.91,1.03, r'$\\PermGroFac$',fontsize = fsmid,fontweight='bold')\n",
    "make('cGroTargetFig')"
   ]
  },
  {
   "cell_type": "markdown",
   "metadata": {},
   "source": [
    "In the [interactive dashboard](#interactive-dashboard) see how target wealth changes when the consumer's time preference factor β or the growth factor Γ change."
   ]
  },
  {
   "cell_type": "markdown",
   "metadata": {
    "code_folding": []
   },
   "source": [
    "### [Consumption Function Bounds](https://econ.jhu.edu/people/ccarroll/papers/BufferStockTheory/#AnalysisOfTheConvergedConsumptionFunction)\n",
    "[The next figure](https://econ.jhu.edu/people/ccarroll/papers/BufferStockTheory/#cFuncBounds)\n",
    "illustrates theoretical bounds for the consumption function.\n",
    "\n",
    "We define two useful variables: lower bound of $\\MPC$ (marginal propensity to consume) and limit of $h$ (Human wealth), along with some functions such as the limiting perfect foresight consumption function $\\bar{c}(m)$, the upper bound function $\\bar{\\bar c}(m)$, and the lower bound function \\underline{_c_}$(m)$."
   ]
  },
  {
   "cell_type": "code",
   "execution_count": null,
   "metadata": {
    "code_folding": [
     0
    ],
    "lines_to_next_cell": 2
   },
   "outputs": [],
   "source": [
    "# Define κ_Min, h_inf and perfect foresight consumption function, upper bound of consumption function and lower\n",
    "# bound of consumption function.\n",
    "\n",
    "# Retrieve parameters (makes code readable)\n",
    "Rfree      = baseAgent_Inf.Rfree\n",
    "DiscFac    = baseAgent_Inf.DiscFac\n",
    "CRRA       = baseAgent_Inf.CRRA\n",
    "EPermGroFac= EPermGroFac\n",
    "mNrmTrg    = baseAgent_Inf.solution[0].mNrmSS\n",
    "UnempPrb   = baseAgent_Inf.UnempPrb\n",
    "\n",
    "κ_Min = 1.0-(Rfree**(-1.0))*(Rfree*DiscFac)**(1.0/CRRA)\n",
    "h_inf = (1.0/(1.0-EPermGroFac/Rfree))\n",
    "cFunc_Uncnst = lambda m: (h_inf -1)* κ_Min + κ_Min*m\n",
    "cFunc_TopBnd = lambda m: (1 - UnempPrb ** (1.0/CRRA)*(Rfree*DiscFac)**(1.0/CRRA)/Rfree)*m\n",
    "cFunc_BotBnd = lambda m: (1 -(Rfree*DiscFac)**(1.0/CRRA)/Rfree) * m"
   ]
  },
  {
   "cell_type": "code",
   "execution_count": null,
   "metadata": {
    "code_folding": [
     0
    ],
    "lines_to_next_cell": 2
   },
   "outputs": [],
   "source": [
    "# Plot the consumption function and its bounds\n",
    "\n",
    "cMaxLabel=r'$\\overline{c}(m) = (m-1+h)\\underline{\\kappa}$'\n",
    "cMinLabel=r'Lower Bound: $\\underline{c}(m)= (1-\\pmb{\\text{\\TH}}_{R})\\underline{\\kappa}m$'\n",
    "if not latexExists:\n",
    "    cMaxLabel=r'$\\overline{c}(m) = (m-1+h)κ̲' # Use unicode kludge\n",
    "    cMinLabel=r'Lower Bound: c̲$(m)= (1-\\Phi_{R})m = κ̲ m$'\n",
    "\n",
    "mPlotMax = 25\n",
    "mPlotMin = 0\n",
    "# mKnk is point where the two upper bounds meet\n",
    "mKnk = ((h_inf-1)* κ_Min)/((1 - UnempPrb**(1.0/CRRA)*(Rfree*DiscFac)**(1.0/CRRA)/Rfree)-κ_Min)\n",
    "mBelwKnkPts = 300\n",
    "mAbveKnkPts = 700\n",
    "mBelwKnk = np.linspace(mPlotMin,mKnk,mBelwKnkPts)\n",
    "mAbveKnk = np.linspace(mKnk,mPlotMax,mAbveKnkPts)\n",
    "mFullPts = np.linspace(mPlotMin,mPlotMax,mBelwKnkPts+mAbveKnkPts)\n",
    "\n",
    "plt.figure(figsize = (12,8))\n",
    "plt.plot(mFullPts,baseAgent_Inf.cFunc[0](mFullPts), color=\"black\")\n",
    "plt.plot(mBelwKnk,cFunc_Uncnst(mBelwKnk)          , color=\"black\",linestyle=\"--\")\n",
    "plt.plot(mAbveKnk,cFunc_Uncnst(mAbveKnk)          , color=\"black\",linewidth=2.5)\n",
    "plt.plot(mBelwKnk,cFunc_TopBnd(mBelwKnk)          , color=\"black\",linewidth=2.5)\n",
    "plt.plot(mAbveKnk,cFunc_TopBnd(mAbveKnk)          , color=\"black\",linestyle=\"--\")\n",
    "plt.plot(mBelwKnk,cFunc_BotBnd(mBelwKnk)          , color=\"black\",linewidth=2.5)\n",
    "plt.plot(mAbveKnk,cFunc_BotBnd(mAbveKnk)          , color=\"black\",linewidth=2.5)\n",
    "plt.tick_params(labelbottom=False, labelleft=False,left='off',right='off',bottom='off',top='off')\n",
    "plt.xlim(mPlotMin,mPlotMax)\n",
    "plt.ylim(mPlotMin,1.12*cFunc_Uncnst(mPlotMax))\n",
    "plt.text(mPlotMin,1.12*cFunc_Uncnst(mPlotMax)+0.05,\"$c$\",fontsize = 22)\n",
    "plt.text(mPlotMax+0.1,mPlotMin,\"$m$\",fontsize = 22)\n",
    "plt.text(2.5,1,r'$c(m)$',fontsize = 22,fontweight='bold')\n",
    "if latexExists:\n",
    "    plt.text(6,5,r'$\\overline{\\overline{c}}(m)= \\overline{\\MPC}m = (1-\\UnempPrb^{1/\\CRRA}\\pmb{\\text{\\TH}}_{R})m$',fontsize = 22,fontweight='bold')\n",
    "else:\n",
    "    plt.text(6,5,r'$\\overline{\\overline{c}}(m)= \\overline{\\MPC}m = (1-\\UnempPrb^{1/\\CRRA}\\Phi_{R})m$',fontsize = 22,fontweight='bold')\n",
    "plt.text(2.2,3.8, cMaxLabel,fontsize = 22,fontweight='bold')\n",
    "plt.text(9,4.1,r'Upper Bound $ = $ Min $[\\overline{\\overline{c}}(m),\\overline{c}(m)]$',fontsize = 22,fontweight='bold')\n",
    "plt.text(8,0.8,cMinLabel,fontsize = 22,fontweight='bold')\n",
    "plt.arrow(2.45,1.05,-0.5,0.02,head_width= 0.05,width=0.001,facecolor='black',length_includes_head='True')\n",
    "plt.arrow(2.15,3.88,-0.5,0.1,head_width= 0.05,width=0.001,facecolor='black',length_includes_head='True')\n",
    "plt.arrow(8.95,4.15,-0.8,0.05,head_width= 0.05,width=0.001,facecolor='black',length_includes_head='True')\n",
    "plt.arrow(5.95,5.05,-0.4,mPlotMin,head_width= 0.05,width=0.001,facecolor='black',length_includes_head='True')\n",
    "plt.arrow(14,0.70,0.5,-0.1,head_width= 0.05,width=0.001,facecolor='black',length_includes_head='True')\n",
    "\n",
    "make('cFuncBounds')"
   ]
  },
  {
   "cell_type": "markdown",
   "metadata": {},
   "source": [
    "### [The Consumption Function and Target $m$](https://econ.jhu.edu/people/ccarroll/papers/BufferStockTheory/#cFuncBounds)\n",
    "\n",
    "This figure shows the $\\mathrm{\\Ex}_{t}[\\Delta m_{t+1}]=0$ locus and consumption function $c(m_{t})$, along with the intersection of these two functions, which defines the target value of $m$"
   ]
  },
  {
   "cell_type": "code",
   "execution_count": null,
   "metadata": {
    "lines_to_next_cell": 2
   },
   "outputs": [],
   "source": [
    "# This just plots objects that have already been constructed\n",
    "\n",
    "mBelwTrg = np.linspace(mPlotMin,4,mPts)\n",
    "EmDelEq0 = lambda m:(EPermGroFac/Rfree)+(1.0-EPermGroFac/Rfree)*m\n",
    "cBelwTrg_Best = baseAgent_Inf.cFunc[0](mBelwTrg) # \"best\" = optimal c\n",
    "cBelwTrg_Sstn = EmDelEq0(mBelwTrg)               # \"sustainable\" c\n",
    "plt.figure(figsize = (12,8))\n",
    "plt.plot(mBelwTrg,cBelwTrg_Best, color=\"black\")\n",
    "plt.plot(mBelwTrg,cBelwTrg_Sstn, color=\"black\")\n",
    "plt.xlim(mPlotMin,3)\n",
    "plt.ylim(mPlotMin,1.45)\n",
    "plt.plot([mNrmTrg, mNrmTrg],[mPlotMin,2.5],color=\"black\",linestyle=\"--\")\n",
    "plt.tick_params(labelbottom=False, labelleft=False,left='off',right='off',bottom='off',top='off')\n",
    "plt.text(mPlotMin,1.47,r\"$c$\",fontsize = 26)\n",
    "plt.text(3.02,mPlotMin,r\"$m$\",fontsize = 26)\n",
    "if latexExists:\n",
    "    plt.text(2.3,0.94,r'$\\Ex_{t}[\\Delta m_{t+1}] = 0$',fontsize = 22,fontweight='bold')\n",
    "else:\n",
    "    plt.text(2.3,0.94,r'$\\mathsf{E}_{t}[\\Delta m_{t+1}] = 0$',fontsize = 22,fontweight='bold')\n",
    "plt.text(2.3,1.1,r\"$c(m_{t})$\",fontsize = 22,fontweight='bold')\n",
    "plt.text(mNrmTrg-0.05,-0.1, r\"$\\Target{m}$\",fontsize = 26)\n",
    "plt.arrow(2.28,1.12,-0.1,0.03,head_width= 0.02,width=0.001,facecolor='black',length_includes_head='True')\n",
    "plt.arrow(2.28,0.97,-0.1,0.02,head_width= 0.02,width=0.001,facecolor='black',length_includes_head='True')\n",
    "\n",
    "make('cRatTargetFig')"
   ]
  },
  {
   "cell_type": "markdown",
   "metadata": {},
   "source": [
    "### [Upper and Lower Limits of the Marginal Propensity to Consume](https://econ.jhu.edu/people/ccarroll/papers/BufferStockTheory/#MPCLimits)\n",
    "\n",
    "The paper shows that as $m_{t}~\\uparrow~\\infty$ the consumption function in the presence of risk gets arbitrarily close to the perfect foresight consumption function.  Defining \\underline{κ}\n",
    "as the perfect foresight model's MPC, this implies that $\\lim_{m_{t}~\\uparrow~\\infty} c^{\\prime}(m) = $ \\underline{κ}\n",
    ".\n",
    "\n",
    "The paper also derives an analytical limit $\\bar{\\MPC}$ for the MPC as $m$ approaches 0., its bounding value.  Strict concavity of the consumption function implies that the consumption function will be everywhere below a function $\\bar{\\MPC}m$, and strictly declining everywhere.  The last figure plots the MPC between these two limits."
   ]
  },
  {
   "cell_type": "code",
   "execution_count": null,
   "metadata": {
    "code_folding": [
     0
    ],
    "lines_to_next_cell": 2
   },
   "outputs": [],
   "source": [
    "# The last figure shows the upper and lower limits of the MPC\n",
    "\n",
    "# Retrieve parameters (makes code readable)\n",
    "Rfree      = baseAgent_Inf.Rfree\n",
    "DiscFac    = baseAgent_Inf.DiscFac\n",
    "CRRA       = baseAgent_Inf.CRRA\n",
    "EPermGroFac= EPermGroFac\n",
    "mNrmTrg    = baseAgent_Inf.solution[0].mNrmSS\n",
    "UnempPrb   = baseAgent_Inf.UnempPrb\n",
    "\n",
    "mPlotMax=8    \n",
    "\n",
    "plt.figure(figsize = (12,8))\n",
    "# Set the plot range of m\n",
    "m = np.linspace(0.001,mPlotMax,mPts)\n",
    "\n",
    "# Use the HARK method derivative to get the derivative of cFunc, and which constitutes the MPC\n",
    "MPC = baseAgent_Inf.cFunc[0].derivative(m)\n",
    "\n",
    "# Define the upper bound of MPC\n",
    "κ_Max = (1 - UnempPrb ** (1.0/CRRA)*(Rfree*DiscFac)**(1.0/CRRA)/Rfree)\n",
    "\n",
    "# Define the lower bound of MPC\n",
    "MPCLower = κ_Min\n",
    "\n",
    "kappaDef=r'$\\underline{\\kappa}\\equiv(1-\\pmb{\\text{\\TH}}_{R})$'\n",
    "if not latexExists:\n",
    "    kappaDef=r'κ̲$\\equiv(1-\\Phi_{R})$'\n",
    "\n",
    "plt.plot(m,MPC,color = 'black')\n",
    "plt.plot([mPlotMin,mPlotMax],[κ_Max,κ_Max],color = 'black')\n",
    "plt.plot([mPlotMin,mPlotMax],[κ_Min,κ_Min],color = 'black')\n",
    "plt.xlim(mPlotMin,mPlotMax)\n",
    "plt.ylim(0,1) # MPC bounds are between 0 and 1 \n",
    "plt.text(1.5,0.6,r'$\\MPC(m) \\equiv c^{\\prime}(m)$',fontsize = 26,fontweight='bold')\n",
    "if latexExists:\n",
    "    plt.text(5,0.87,r'$(1-\\UnempPrb^{1/\\CRRA}\\pmb{\\text{\\TH}})\\equiv \\overline{\\MPC}$',fontsize = 26,fontweight='bold') # Use Thorn character\n",
    "else:\n",
    "    plt.text(5,0.87,r'$(1-\\UnempPrb^{1/\\CRRA}\\Phi_{R})\\equiv \\overline{\\MPC}$',fontsize = 26,fontweight='bold') # Use Phi instead of Thorn (alas)\n",
    "\n",
    "plt.text(0.5,0.07,kappaDef,fontsize = 26,fontweight='bold')\n",
    "plt.text(mPlotMax+0.05,mPlotMin,\"$m$\",fontsize = 26)\n",
    "plt.arrow(1.45,0.61,-0.4,mPlotMin,head_width= 0.02,width=0.001,facecolor='black',length_includes_head='True')\n",
    "plt.arrow(2.2,0.07,0.2,-0.01,head_width= 0.02,width=0.001,facecolor='black',length_includes_head='True')\n",
    "plt.arrow(4.95,0.895,-0.2,0.03,head_width= 0.02,width=0.001,facecolor='black',length_includes_head='True')\n",
    "\n",
    "make('MPCLimits')"
   ]
  },
  {
   "cell_type": "markdown",
   "metadata": {},
   "source": [
    "# Summary\n",
    "\n",
    "[Two tables in the paper](https://llorracc.github.io/BufferStockTheory/#Factors-Defined-And-Compared) summarize the various definitions, and then articulate conditions required for the problem to have a nondegenerate solution.  Among the nondegenerate cases, the most interesting result is that if the Growth Impatience Condition holds there will be a target level of wealth."
   ]
  },
  {
   "cell_type": "markdown",
   "metadata": {},
   "source": [
    "### Appendix: Options for Interacting With This Notebook <a id='optionsForInstalling'></a>\n",
    "\n",
    "1. [View (static version)](https://github.com/llorracc/BufferStockTheory/blob/master/Code/Python/BufferStockTheory.ipynb) on GitHub (warning:  GitHub does not render Jupyter notebooks reliably)\n",
    "1. [Launch Online Interactive Version](https://econ-ark.org/materials/BufferStockTheory/#launch)\n",
    "1. For fast (local) execution, install [econ-ark](http://github.com/econ-ark) on your computer ([QUICK START GUIDE](https://github.com/econ-ark/HARK/blob/master/README.md)) then follow these instructions to retrieve the full contents of the `BufferStockTheory` [REMARK](https://github.com/econ-ark/REMARK):\n",
    "   1. At a command line, change the working directory to the one where you want to install\n",
    "       * On unix, if you install in the `/tmp` directory, the installation will disappear after a reboot:\n",
    "       * `cd /tmp`\n",
    "   1. `git clone https://github.com/econ-ark/REMARK --recursive`\n",
    "   1. `cd REMARK/REMARKs/BufferStockTheory`\n",
    "   1. `jupyter notebook BufferStockTheory.ipynb`"
   ]
  },
  {
   "cell_type": "markdown",
   "metadata": {},
   "source": [
    "### Appendix: Perfect foresight agent failing both the FHWC and RIC"
   ]
  },
  {
   "cell_type": "code",
   "execution_count": null,
   "metadata": {},
   "outputs": [],
   "source": [
    "from copy import copy\n",
    "from HARK.ConsumptionSaving.ConsIndShockModel import PerfForesightConsumerType\n",
    "fig6_par = copy(base_params)\n",
    "\n",
    "# Replace parameters.\n",
    "fig6_par['Rfree'] = 0.98\n",
    "fig6_par['DiscFac'] = 1\n",
    "fig6_par['PermGroFac'] = [0.99]\n",
    "fig6_par['CRRA'] = 2\n",
    "fig6_par['BoroCnstArt']  = 0\n",
    "fig6_par['T_cycle'] = 0\n",
    "fig6_par['cycles'] = 0\n",
    "fig6_par['quiet'] = False\n",
    "\n",
    "# Create the agent\n",
    "RichButPatientAgent = PerfForesightConsumerType(**fig6_par)\n",
    "# Check conditions\n",
    "RichButPatientAgent.checkConditions(verbose = 3)\n",
    "# Solve\n",
    "RichButPatientAgent.solve()\n",
    "\n",
    "# Plot\n",
    "mPlotMin, mPlotMax = 1, 9.5\n",
    "plt.figure(figsize = (8,4))\n",
    "m_grid = np.linspace(mPlotMin,mPlotMax,500)\n",
    "plt.plot(m_grid-1, RichButPatientAgent.solution[0].cFunc(m_grid), color=\"black\")\n",
    "plt.text(mPlotMax-1+0.05,1,r\"$b$\",fontsize = 26)\n",
    "plt.text(mPlotMin-1,1.017,r\"$c$\",fontsize = 26)\n",
    "plt.xlim(mPlotMin-1,mPlotMax-1)\n",
    "plt.ylim(mPlotMin,1.016)\n",
    "\n",
    "make('PFGICHoldsFHWCFailsRICFails')"
   ]
  }
 ],
 "metadata": {
  "jupytext": {
   "cell_metadata_filter": "ExecuteTime,autoscroll,heading_collapsed,hidden,slideshow,-hide_ouput,-code_folding",
   "cell_metadata_json": true,
   "encoding": "# -*- coding: utf-8 -*-",
   "formats": "ipynb,py:percent",
   "notebook_metadata_filter": "all"
  },
  "kernelspec": {
   "display_name": "Python 3",
   "language": "python",
   "name": "python3"
  },
  "language_info": {
   "codemirror_mode": {
    "name": "ipython",
    "version": 3
   },
   "file_extension": ".py",
   "mimetype": "text/x-python",
   "name": "python",
   "nbconvert_exporter": "python",
   "pygments_lexer": "ipython3",
   "version": "3.6.9"
  },
  "latex_envs": {
   "LaTeX_envs_menu_present": true,
   "autoclose": false,
   "autocomplete": false,
   "bibliofile": "biblio.bib",
   "cite_by": "apalike",
   "current_citInitial": 1,
   "eqLabelWithNumbers": true,
   "eqNumInitial": 1,
   "hotkeys": {
    "equation": "Ctrl-E",
    "itemize": "Ctrl-I"
   },
   "labels_anchors": false,
   "latex_user_defs": false,
   "report_style_numbering": false,
   "user_envs_cfg": false
  }
 },
 "nbformat": 4,
 "nbformat_minor": 2
}
