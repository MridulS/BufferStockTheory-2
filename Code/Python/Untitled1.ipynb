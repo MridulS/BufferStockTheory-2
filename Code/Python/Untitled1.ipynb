{
 "cells": [
  {
   "cell_type": "markdown",
   "id": "encouraging-thermal",
   "metadata": {},
   "source": [
    "\n",
    "\\begin{eqnarray}\n",
    "\\Ex_{t}[\\mLevBF_{t+1}/\\mLevBF_{t}] & = & \\Ex_{t}\\left[\\frac{\\pLevBF_{t+1}\\mNrm_{t+1}(m_{t+1})}{\\pLevBF_{t}\\mNrm_{t}}\\right] \\\\\n",
    "& = & \\Ex_{t}\\left[\\frac{\\PermGroFac \\permShk_{t+1} \\pLevBF_{t}}{\\pLevBF_{t}}\\frac{\\mNrm_{t+1}}{\\mNrm_{t}}\\right] \\\\\n",
    "& = & \\left(\\frac{\\Ex_{t}[\\PermGroFac \\permShk_{t+1} \\left(\\Rfree/(\\PermGroFac\\permShk_{t+1})(\\mNrm_{t}-\\cNrm_{t})+\\PermGroFac \\permShk_{t+1}\\tranShk_{t+1}\\right)]}{\\mNrm_{t}}\\right) \\\\\n",
    "& = & \\left(\\frac{\\Rfree (\\mNrm_{t}-\\cNrm_{t})+\\PermGroFac}{\\mNrm_{t}}\\right)\n",
    "\\end{eqnarray}\n",
    "but since $\\Ex_{t}[\\pLevBF_{t+1}]=\\PermGroFac \\pLevBF_{t}$ we have that\n",
    "\\begin{eqnarray}\n",
    "\\Ex_{t}[\\mLevBF_{t+1}] & = & \\Ex_{t}\\left[\\pLevBF_{t+1}\\mNrm_{t+1}\\right] = \\Ex_{t}\\left[\\PermGroFac\\pLevBF_{t}\\permShk_{t+1}\\mNrm_{t+1}\\right]  \\\\\n",
    "\\Ex_{t}[\\mLevBF_{t+1}/\\mNrm_{t}\\pLevBF_{t}]& = &\\Ex_{t}\\left[\\PermGroFac \\permShk_{t+1}\\mNrm_{t+1}\\right]/\\mNrm_{t} \\\\\n",
    "\\PermGroFac \\mNrm_{t} & = & \\Ex_{t}[\\PermGroFac \\permShk_{t+1} \\left(\\Rfree/(\\PermGroFac\\permShk_{t+1})(\\mNrm_{t}-\\cNrm_{t})+\\PermGroFac \\permShk_{t+1}\\tranShk_{t+1}\\right)] \\\\\n",
    "%\\PermGroFac \\mNrm_{t}  & = & \\Ex_{t}[\\Rfree(\\mNrm_{t}-\\cNrm_{t})]+\\PermGroFac\\\\\n",
    "\\mNrm_{t} & = & \\mathcal{R}(\\mNrm_{t}-\\cNrm_{t})+1 \\\\\n",
    "\\cNrm_{t}\\mathcal{R} & = & \\mNrm_{t}(\\mathcal{R}-1)+1 \\\\\n",
    "\\cNrm_{t} & = & 1+\\mNrm_{t}(1-1/\\mathcal{R})\n",
    "\\end{eqnarray}\n",
    "\n",
    "and so at the individual balanced growth point where $\\Ex_{t}[\\mLevBF_{t+1}] = \\mLevBF_{t} =  \\StE{\\mNrm}$, we can write the last equation in the first block above as\n",
    "\n",
    "\\begin{align}\n",
    "\\StE{\\mNrm} & = \\left(\\frac{(\\Rfree(\\StE{\\mNrm}-\\cNrm)+\\PermGroFac)\\pLevBF_{t}}{\\pLevBF_{t}\\PermGroFac}\\right)\n",
    "\\\\ & =  (\\Rfree/\\PermGroFac)(\\StE{\\mNrm}-\\cNrm)+1)\n",
    "\\\\ (\\StE{\\mNrm} - 1)(\\PermGroFac/\\Rfree) & = (\\StE{\\mNrm}-\\cNrm)\n",
    "\\\\ \\cNrm & = \\StE{\\mNrm} - (\\StE{\\mNrm} - 1)(\\PermGroFac/\\Rfree)\n",
    "\\end{align}\n"
   ]
  }
 ],
 "metadata": {
  "kernelspec": {
   "display_name": "Python 3",
   "language": "python",
   "name": "python3"
  },
  "language_info": {
   "codemirror_mode": {
    "name": "ipython",
    "version": 3
   },
   "file_extension": ".py",
   "mimetype": "text/x-python",
   "name": "python",
   "nbconvert_exporter": "python",
   "pygments_lexer": "ipython3",
   "version": "3.8.8"
  },
  "latex_envs": {
   "LaTeX_envs_menu_present": true,
   "autoclose": false,
   "autocomplete": true,
   "bibliofile": "biblio.bib",
   "cite_by": "apalike",
   "current_citInitial": 1,
   "eqLabelWithNumbers": true,
   "eqNumInitial": 1,
   "hotkeys": {
    "equation": "Ctrl-E",
    "itemize": "Ctrl-I"
   },
   "labels_anchors": false,
   "latex_user_defs": false,
   "report_style_numbering": false,
   "user_envs_cfg": false
  }
 },
 "nbformat": 4,
 "nbformat_minor": 5
}
