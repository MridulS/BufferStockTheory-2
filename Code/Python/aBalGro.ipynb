{
 "cells": [
  {
   "cell_type": "markdown",
   "id": "based-fifteen",
   "metadata": {},
   "source": [
    "\n",
    "\n",
    "\\begin{eqnarray}\n",
    "\\Ex_{t}[\\aLevBF_{t+1}/\\aLevBF_{t}] & = & \\Ex_{t}\\left[\\frac{\\pLevBF_{t+1}\\aNrm_{t+1}}{\\pLevBF_{t}\\aNrm_{t}}\\right] \\\\ \n",
    "& = & \\Ex_{t}\\left[\\frac{\\PermGroFac \\permShk_{t+1} \\pLevBF_{t}}{\\pLevBF_{t}}\\frac{\\mNrm_{t+1}-\\cNrm_{t+1}}{\\aNrm_{t}}\\right] \\\\\n",
    "& = & \\left(\\frac{\\Ex_{t}[\\PermGroFac \\permShk_{t+1} \\left(\n",
    "\\Rfree/(\\PermGroFac\\permShk_{t+1})\n",
    "\\aNrm_{t}+\\tranShk_{t+1})-\\cFunc(\\Rfree/(\\PermGroFac\\permShk_{t+1})\\aNrm_{t}+\\tranShk_{t+1}\n",
    "\\right)]}{\\aNrm_{t}}\\right) \\\\\n",
    "& = & \\left(\\frac{\\PermGroFac \\left(\n",
    "\\Rfree\n",
    "\\aNrm_{t}+1)-\\Ex_{t}[\\PermGroFac \\permShk_{t+1}\\cFunc(\\Rfree/(\\PermGroFac\\permShk_{t+1})\\aNrm_{t}+\\tranShk_{t+1}\n",
    "\\right)]}{\\aNrm_{t}}\\right) \\\\\n",
    "& \\approx & \\left(\\frac{\\PermGroFac (\n",
    "\\Rfree\n",
    "\\aNrm_{t}+1)-\\Ex_{t}[\\PermGroFac \\permShk_{t+1}\\left(\\cFunc(\\check{\\aNrm})+\\cFunc^{\\prime}(\\check{\\aNrm})(\\aNrm_{t+1}-\\aNrm_{t})+\\cFunc^{\\prime\\prime}(\\check{\\aNrm})(\\aNrm_{t+1}-\\aNrm_{t})^{2}/2\\right)]}{\\aNrm_{t}}\\right) \\\\\n",
    "\\end{eqnarray}\n"
   ]
  },
  {
   "cell_type": "markdown",
   "id": "random-devil",
   "metadata": {},
   "source": [
    "\n",
    "\n",
    "\\begin{eqnarray}\n",
    "\\PermGroFac & = & \\left(\\frac{\\PermGroFac \\left(\n",
    "\\Rfree\n",
    "\\aNrm_{t}+1)-\\Ex_{t}[\\PermGroFac \\permShk_{t+1}\\cFunc(\\Rfree/(\\PermGroFac\\permShk_{t+1})\\aNrm_{t}+\\tranShk_{t+1}\n",
    "\\right)]}{\\aNrm_{t}}\\right) \\\\\n",
    "\\aNrm_{t} & = & \\left(\n",
    "\\Rfree\n",
    "\\aNrm_{t}+1)-\\Ex_{t}[ \\permShk_{t+1}\\cFunc(\\Rfree/(\\PermGroFac\\permShk_{t+1})\\aNrm_{t}+\\tranShk_{t+1}\n",
    "\\right)] \\\\\n",
    "\\aNrm_{t} & = & \\left(\n",
    "\\Rfree\n",
    "\\aNrm_{t}+1)-\\Ex_{t}[ \\permShk_{t+1}\\cFunc(\\Rfree/(\\PermGroFac\\permShk_{t+1})\\aNrm_{t}+\\tranShk_{t+1}\n",
    "\\right)]\n",
    "\\end{eqnarray}\n"
   ]
  },
  {
   "cell_type": "code",
   "execution_count": null,
   "id": "corporate-rugby",
   "metadata": {},
   "outputs": [],
   "source": []
  },
  {
   "cell_type": "markdown",
   "id": "automotive-leone",
   "metadata": {},
   "source": [
    "Approximate around $\\check{m}$\n",
    "\n",
    "\\begin{eqnarray}\n",
    "\\aNrm_{t}(1-\\Rfree) & = & \n",
    "1 -\\Ex_{t}[ \\permShk_{t+1}\\cFunc((\\Rfree/\\PermGroFac\\permShk_{t+1})\\aNrm_{t}+\\tranShk_{t+1})]\n",
    "\\\\ \\aNrm_{t}(1-\\Rfree) & = & \n",
    "1 -\\Ex_{t}[ \\permShk_{t+1}\\left(\\cFunc(\\hat{m})+(m_{t+1}-\\check{m})+(1/2)\\cFunc^{\\prime\\prime}(m_{t+1}-\\hat{m})^{2}\\right)]\n",
    "\\\\ &= &\n",
    "1 - \\hat{c}+(\\check{m}-\\check{m})\\cFunc^{\\prime}+\\Ex_{t}[ \\permShk_{t+1}\\left((1/2)(m_{t+1}-\\check{m})^{2}\\cFunc^{\\prime\\prime}\\right)] \\\\ \n",
    "\\check{m}-\\cFunc(\\check{m}) & = & 1 - \\hat{c}+\\Ex_{t}[ \\permShk_{t+1}\\left((1/2)(m_{t+1}-\\check{m})^{2}\\cFunc^{\\prime\\prime}\\right)] \\\\ \n",
    "\\check{m} & = & 1 +\\Ex_{t}[ \\permShk_{t+1}\\left((1/2)(m_{t+1}-\\check{m})^{2}\\cFunc^{\\prime\\prime}\\right)]\n",
    "\\\\ \\check{m} & = & 1 +\\Ex_{t}[ \\permShk_{t+1}\\left((1/2)(m_{t+1}^{2}-2 m_{t+1}\\check{m}+\\check{m}^{2})\\cFunc^{\\prime\\prime}\\right)]\n",
    "\\\\ \\check{m} & = & 1 +\\Ex_{t}[ \\permShk_{t+1}\\left((1/2)(m_{t+1}^{2}-\\check{m}^{2})\\cFunc^{\\prime\\prime}\\right)]\n",
    "\\end{eqnarray}\n"
   ]
  },
  {
   "cell_type": "code",
   "execution_count": null,
   "id": "painted-funeral",
   "metadata": {},
   "outputs": [],
   "source": []
  },
  {
   "cell_type": "code",
   "execution_count": null,
   "id": "female-dragon",
   "metadata": {},
   "outputs": [],
   "source": []
  },
  {
   "cell_type": "code",
   "execution_count": null,
   "id": "decimal-blues",
   "metadata": {},
   "outputs": [],
   "source": []
  },
  {
   "cell_type": "code",
   "execution_count": null,
   "id": "completed-fortune",
   "metadata": {},
   "outputs": [],
   "source": []
  },
  {
   "cell_type": "code",
   "execution_count": null,
   "id": "superb-turkey",
   "metadata": {},
   "outputs": [],
   "source": []
  },
  {
   "cell_type": "code",
   "execution_count": null,
   "id": "latest-spread",
   "metadata": {},
   "outputs": [],
   "source": []
  },
  {
   "cell_type": "code",
   "execution_count": null,
   "id": "controlling-mobile",
   "metadata": {},
   "outputs": [],
   "source": []
  },
  {
   "cell_type": "code",
   "execution_count": null,
   "id": "silent-planning",
   "metadata": {},
   "outputs": [],
   "source": []
  },
  {
   "cell_type": "code",
   "execution_count": null,
   "id": "sublime-stretch",
   "metadata": {},
   "outputs": [],
   "source": []
  },
  {
   "cell_type": "code",
   "execution_count": null,
   "id": "frequent-franklin",
   "metadata": {},
   "outputs": [],
   "source": []
  },
  {
   "cell_type": "code",
   "execution_count": null,
   "id": "british-jason",
   "metadata": {},
   "outputs": [],
   "source": []
  },
  {
   "cell_type": "code",
   "execution_count": null,
   "id": "worse-bulgarian",
   "metadata": {},
   "outputs": [],
   "source": []
  },
  {
   "cell_type": "code",
   "execution_count": null,
   "id": "saving-region",
   "metadata": {},
   "outputs": [],
   "source": []
  },
  {
   "cell_type": "code",
   "execution_count": null,
   "id": "administrative-multimedia",
   "metadata": {},
   "outputs": [],
   "source": []
  },
  {
   "cell_type": "code",
   "execution_count": null,
   "id": "representative-british",
   "metadata": {},
   "outputs": [],
   "source": []
  },
  {
   "cell_type": "code",
   "execution_count": null,
   "id": "complex-trunk",
   "metadata": {},
   "outputs": [],
   "source": []
  },
  {
   "cell_type": "code",
   "execution_count": null,
   "id": "floppy-burlington",
   "metadata": {},
   "outputs": [],
   "source": []
  },
  {
   "cell_type": "code",
   "execution_count": null,
   "id": "julian-understanding",
   "metadata": {},
   "outputs": [],
   "source": []
  },
  {
   "cell_type": "code",
   "execution_count": null,
   "id": "mobile-stream",
   "metadata": {},
   "outputs": [],
   "source": []
  },
  {
   "cell_type": "code",
   "execution_count": null,
   "id": "mobile-search",
   "metadata": {},
   "outputs": [],
   "source": []
  },
  {
   "cell_type": "code",
   "execution_count": null,
   "id": "driven-dream",
   "metadata": {},
   "outputs": [],
   "source": []
  },
  {
   "cell_type": "code",
   "execution_count": null,
   "id": "hourly-elimination",
   "metadata": {},
   "outputs": [],
   "source": []
  },
  {
   "cell_type": "code",
   "execution_count": null,
   "id": "round-category",
   "metadata": {},
   "outputs": [],
   "source": []
  },
  {
   "cell_type": "code",
   "execution_count": null,
   "id": "southwest-miller",
   "metadata": {},
   "outputs": [],
   "source": []
  },
  {
   "cell_type": "code",
   "execution_count": null,
   "id": "geographic-covering",
   "metadata": {},
   "outputs": [],
   "source": []
  },
  {
   "cell_type": "code",
   "execution_count": null,
   "id": "floppy-oregon",
   "metadata": {},
   "outputs": [],
   "source": []
  },
  {
   "cell_type": "code",
   "execution_count": null,
   "id": "large-progress",
   "metadata": {},
   "outputs": [],
   "source": []
  },
  {
   "cell_type": "code",
   "execution_count": null,
   "id": "insured-waste",
   "metadata": {},
   "outputs": [],
   "source": []
  },
  {
   "cell_type": "code",
   "execution_count": null,
   "id": "selective-london",
   "metadata": {},
   "outputs": [],
   "source": []
  },
  {
   "cell_type": "code",
   "execution_count": null,
   "id": "activated-question",
   "metadata": {},
   "outputs": [],
   "source": []
  },
  {
   "cell_type": "code",
   "execution_count": null,
   "id": "mighty-worse",
   "metadata": {},
   "outputs": [],
   "source": []
  },
  {
   "cell_type": "code",
   "execution_count": null,
   "id": "strong-liability",
   "metadata": {},
   "outputs": [],
   "source": []
  },
  {
   "cell_type": "code",
   "execution_count": null,
   "id": "recorded-custody",
   "metadata": {},
   "outputs": [],
   "source": []
  },
  {
   "cell_type": "code",
   "execution_count": null,
   "id": "wound-pulse",
   "metadata": {},
   "outputs": [],
   "source": []
  },
  {
   "cell_type": "code",
   "execution_count": null,
   "id": "informational-shepherd",
   "metadata": {},
   "outputs": [],
   "source": []
  },
  {
   "cell_type": "code",
   "execution_count": null,
   "id": "single-sydney",
   "metadata": {},
   "outputs": [],
   "source": []
  },
  {
   "cell_type": "code",
   "execution_count": null,
   "id": "defensive-citizenship",
   "metadata": {},
   "outputs": [],
   "source": []
  },
  {
   "cell_type": "code",
   "execution_count": null,
   "id": "constitutional-company",
   "metadata": {},
   "outputs": [],
   "source": []
  },
  {
   "cell_type": "code",
   "execution_count": null,
   "id": "colored-valley",
   "metadata": {},
   "outputs": [],
   "source": []
  },
  {
   "cell_type": "code",
   "execution_count": null,
   "id": "local-phase",
   "metadata": {},
   "outputs": [],
   "source": []
  },
  {
   "cell_type": "code",
   "execution_count": null,
   "id": "possible-overall",
   "metadata": {},
   "outputs": [],
   "source": []
  },
  {
   "cell_type": "code",
   "execution_count": null,
   "id": "strange-inflation",
   "metadata": {},
   "outputs": [],
   "source": []
  },
  {
   "cell_type": "markdown",
   "id": "greenhouse-attendance",
   "metadata": {},
   "source": [
    "\\\\\n",
    "& = & \\left(\\frac{\\Ex_{t}[\\PermGroFac \\permShk_{t+1} \\left(\\Rfree/(\\PermGroFac\\permShk_{t+1})(\\aNrm_{t}-\\cNrm_{t})+\\tranShk_{t+1}\\right)-\\cFunc(\\PermGroFac \\permShk_{t+1} \\left(\\Rfree/(\\PermGroFac\\permShk_{t+1})(\\aNrm_{t}-\\cNrm_{t})+\\PermGroFac \\permShk_{t+1}\\tranShk_{t+1}\\right)]}{\\aNrm_{t}}\\right) \\\\\n",
    "& = & \\left(\\frac{\\Rfree (\\aNrm_{t}-\\cNrm_{t})+\\PermGroFac}{\\aNrm_{t}}\\right)\n",
    "\\end{eqnarray}\n",
    "but since $\\Ex_{t}[\\pLevBF_{t+1}]=\\PermGroFac \\pLevBF_{t}$ we have that\n",
    "\\begin{eqnarray}\n",
    "\\Ex_{t}[\\mLevBF_{t+1}] & = & \\Ex_{t}\\left[\\pLevBF_{t+1}\\aNrm_{t+1}\\right] \\\\ \n",
    "& = & \\pLevBF_{t} \\Ex_{t}\\left[\\PermGroFac \\permShk_{t+1} ((\\Rfree/(\\PermGroFac \\permShk_{t+1} )(\\aNrm_{t}-\\cNrm_{t})+\\tranShk_{t+1})\\right] \\\\\n",
    "& = & \\pLevBF_{t} \\Ex_{t}\\left[ \\Rfree(\\aNrm_{t}-\\cNrm_{t})+\\PermGroFac\\right]\n",
    "\\end{eqnarray}\n",
    "\n",
    "and so at the individual balanced growth point where $\\Ex_{t}[\\mLevBF_{t+1}] = \\mLevBF_{t} =  \\StE{\\aNrm}$, we can write the last equation in the first block above as \n",
    "\n",
    "\\begin{align}\n",
    "\\StE{\\aNrm} & = \\left(\\frac{(\\Rfree(\\StE{\\aNrm}-\\cNrm)+\\PermGroFac)\\pLevBF_{t}}{\\pLevBF_{t}\\PermGroFac}\\right)\n",
    "\\\\ & =  (\\Rfree/\\PermGroFac)(\\StE{\\aNrm}-\\cNrm)+1)\n",
    "\\\\ (\\StE{\\aNrm} - 1)(\\PermGroFac/\\Rfree) & = (\\StE{\\aNrm}-\\cNrm)\n",
    "\\\\ \\cNrm & = \\StE{\\aNrm} - (\\StE{\\mNrm} - 1)(\\PermGroFac/\\Rfree) \n",
    "\\end{align}"
   ]
  },
  {
   "cell_type": "code",
   "execution_count": null,
   "id": "reported-intervention",
   "metadata": {},
   "outputs": [],
   "source": []
  },
  {
   "cell_type": "code",
   "execution_count": null,
   "id": "rural-jesus",
   "metadata": {},
   "outputs": [],
   "source": []
  },
  {
   "cell_type": "code",
   "execution_count": null,
   "id": "orange-disorder",
   "metadata": {},
   "outputs": [],
   "source": []
  },
  {
   "cell_type": "code",
   "execution_count": null,
   "id": "finished-trigger",
   "metadata": {},
   "outputs": [],
   "source": []
  },
  {
   "cell_type": "code",
   "execution_count": null,
   "id": "exciting-roberts",
   "metadata": {},
   "outputs": [],
   "source": []
  },
  {
   "cell_type": "code",
   "execution_count": null,
   "id": "becoming-namibia",
   "metadata": {},
   "outputs": [],
   "source": []
  },
  {
   "cell_type": "code",
   "execution_count": null,
   "id": "known-medicine",
   "metadata": {},
   "outputs": [],
   "source": []
  },
  {
   "cell_type": "code",
   "execution_count": null,
   "id": "short-toddler",
   "metadata": {},
   "outputs": [],
   "source": []
  },
  {
   "cell_type": "code",
   "execution_count": null,
   "id": "economic-pennsylvania",
   "metadata": {},
   "outputs": [],
   "source": []
  },
  {
   "cell_type": "code",
   "execution_count": null,
   "id": "acceptable-nicaragua",
   "metadata": {},
   "outputs": [],
   "source": []
  }
 ],
 "metadata": {
  "jupytext": {
   "formats": "ipynb,py:percent"
  },
  "kernelspec": {
   "display_name": "Python 3",
   "language": "python",
   "name": "python3"
  },
  "language_info": {
   "codemirror_mode": {
    "name": "ipython",
    "version": 3
   },
   "file_extension": ".py",
   "mimetype": "text/x-python",
   "name": "python",
   "nbconvert_exporter": "python",
   "pygments_lexer": "ipython3",
   "version": "3.8.8"
  },
  "latex_envs": {
   "LaTeX_envs_menu_present": true,
   "autoclose": false,
   "autocomplete": true,
   "bibliofile": "biblio.bib",
   "cite_by": "apalike",
   "current_citInitial": 1,
   "eqLabelWithNumbers": true,
   "eqNumInitial": 1,
   "hotkeys": {
    "equation": "Ctrl-E",
    "itemize": "Ctrl-I"
   },
   "labels_anchors": false,
   "latex_user_defs": false,
   "report_style_numbering": false,
   "user_envs_cfg": false
  }
 },
 "nbformat": 4,
 "nbformat_minor": 5
}
