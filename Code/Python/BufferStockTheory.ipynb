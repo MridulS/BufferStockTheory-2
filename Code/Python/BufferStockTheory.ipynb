{
 "cells": [
  {
   "cell_type": "markdown",
   "id": "related-princess",
   "metadata": {},
   "source": [
    "# Theoretical Foundations of Buffer Stock Saving\n",
    "\n",
    "<cite data-cite=\"6202365/8AH9AXN2\"></cite>\n",
    "\n",
    "<p style=\"text-align: center;\"><small><small><small>Generator: BufferStockTheory-make/notebooks_byname</small></small></small></p>\n",
    "\n",
    "[![econ-ark.org](https://img.shields.io/badge/Powered%20by-Econ--ARK-3e8acc.svg)](https://econ-ark.org/materials/BufferStockTheory)\n"
   ]
  },
  {
   "cell_type": "markdown",
   "id": "declared-startup",
   "metadata": {},
   "source": [
    "<a id='interactive-dashboard'></a>\n",
    "\n",
    "[This notebook](https://econ-ark.org/BufferStockTheory/#launch) uses the [Econ-ARK/HARK](https://github.com/econ-ark/HARK) toolkit to reproduce and illustrate key results of the paper [Theoretical Foundations of Buffer Stock Saving](http://econ-ark.github.io/BufferStockTheory/BufferStockTheory).\n",
    "\n",
    "An [interactive dashboard](https://econ-ark.org/BufferStockStockTheory/#Dashboard) allows you to modify parameters to see how the figures change.\n",
    "\n",
    "(Click on the $~~\\bullet\\bullet\\bullet~~$ patterns to expose the runnable code)"
   ]
  },
  {
   "cell_type": "code",
   "execution_count": null,
   "id": "moral-elder",
   "metadata": {
    "jupyter": {
     "source_hidden": true
    },
    "tags": []
   },
   "outputs": [],
   "source": [
    "# This cell does some setup\n",
    "\n",
    "# Import related generic python packages\n",
    "from HARK.ConsumptionSaving.ConsIndShockModel import PerfForesightConsumerType\n",
    "from copy import copy\n",
    "from HARK.ConsumptionSaving.ConsIndShockModel import init_idiosyncratic_shocks as base_params\n",
    "from HARK.utilities import plot_funcs, plot_funcs_der\n",
    "from HARK.ConsumptionSaving.ConsIndShockModel import IndShockConsumerType\n",
    "from HARK.utilities import find_gui, make_figs, determine_platform, test_latex_installation, setup_latex_env_notebook\n",
    "import HARK\n",
    "import numpy as np\n",
    "from copy import deepcopy\n",
    "\n",
    "# Plotting tools\n",
    "import matplotlib.pyplot as plt\n",
    "\n",
    "# Ignore some harmless but alarming warning messages\n",
    "import warnings\n",
    "warnings.filterwarnings(\"ignore\")\n",
    "\n",
    "# Code to allow a master \"Generator\" and derived \"Generated\" versions\n",
    "#   - allows \"$nb-Problems-And-Solutions → $nb-Problems → $nb\"\n",
    "Generator = True  # Is this notebook the master or is it generated?\n",
    "\n",
    "# Whether to save the figures to Figures_dir\n",
    "saveFigs = True\n",
    "\n",
    "# Whether to draw the figures\n",
    "drawFigs = True\n",
    "\n",
    "if HARK.__version__ < '0.10.8':\n",
    "    raise ImportError(\n",
    "        'This notebook requires at least econ-ark v0.10.8,  please update your installation pip install -U econ-ark or conda install -c conda-forge econ-ark')\n",
    "\n",
    "pf = determine_platform()\n",
    "try:\n",
    "    latexExists = test_latex_installation(pf)\n",
    "except ImportError:  # windows and MacOS requires manual install\n",
    "    latexExists = False\n",
    "\n",
    "setup_latex_env_notebook(pf, latexExists)\n",
    "\n",
    "# check if GUI is present if not then switch drawFigs to False and force saveFigs to be True\n",
    "if not find_gui():\n",
    "    drawFigs = False\n",
    "    saveFigs = True\n",
    "\n",
    "# Font sizes for figures\n",
    "fssml = 18\n",
    "fsmid = 22\n",
    "fsbig = 26\n",
    "\n",
    "# this can be removed if we pass in saveFigs and drawFigs in every call to make('figure')\n",
    "\n",
    "\n",
    "def make(figure_name, target_dir=\"../../Figures\"):\n",
    "    make_figs(figure_name, saveFigs, drawFigs, target_dir)"
   ]
  },
  {
   "cell_type": "markdown",
   "id": "available-picnic",
   "metadata": {
    "tags": []
   },
   "source": [
    "## [The Problem](http://econ-ark.github.io/BufferStockTheory/BufferStockTheory/#The-Problem)\n",
    "\n",
    "The paper defines and calibrates a small set of parameters:\n",
    "\n",
    "\\begin{align}\n",
    " &\n",
    "\\renewcommand{\\APF}{\\pmb{\\unicode[0.55,0.05]{0x00DE}}}\n",
    "\\newcommand{\\PatFac}{\\pmb{\\unicode[0.55,0.05]{0x00DE}}}\n",
    "\\newcommand{\\PatRte}{\\pmb{\\unicode[0.55,0.05]{0x00FE}}}\n",
    "\\newcommand{\\aLev}{\\mathbf{a}}\n",
    "\\newcommand{\\CRRA}{\\rho}\n",
    "\\newcommand{\\cLev}{\\mathbf{c}}\n",
    "\\newcommand{\\aNrm}{{a}}\n",
    "\\newcommand{\\bNrm}{{b}}\n",
    "\\newcommand{\\cNrm}{{c}}\n",
    "\\newcommand{\\dNrm}{{d}}\n",
    "\\newcommand{\\hNrm}{{h}}\n",
    "\\newcommand{\\mNrm}{{m}}\n",
    "\\newcommand{\\vNrm}{{v}}\n",
    "\\newcommand{\\aLev}{\\pmb{\\mathrm{a}}}\n",
    "\\newcommand{\\bLev}{\\pmb{\\mathrm{b}}}\n",
    "\\newcommand{\\cLev}{\\pmb{\\mathrm{c}}}\n",
    "\\newcommand{\\dLev}{\\pmb{\\mathrm{d}}}\n",
    "\\newcommand{\\hLev}{\\pmb{\\mathrm{h}}}\n",
    "\\newcommand{\\mLev}{\\pmb{\\mathrm{m}}}\n",
    "\\newcommand{\\pLev}{\\pmb{\\mathrm{p}}}\n",
    "\\newcommand{\\vLev}{\\pmb{\\mathrm{v}}}\n",
    "\\newcommand{\\cFunc}{\\mathrm{c}}\n",
    "\\newcommand{\\uFunc}{\\mathrm{u}}\n",
    "\\newcommand{\\RNrm}{\\mathcal{R}}\n",
    "\\newcommand{\\DiscFac}{\\beta}\n",
    "\\newcommand{\\Ex}{\\mathbb{E}}\n",
    "\\newcommand{\\IncUnemp}{\\mu}\n",
    "\\newcommand{\\MPC}{\\kappa}\n",
    "\\newcommand{\\PermGroFac}{\\Gamma}\n",
    "\\newcommand{\\PermGroFacAdj}{\\tilde{\\Gamma}}\n",
    "\\newcommand{\\PermShkStd}{\\sigma_\\Psi}\n",
    "\\newcommand{\\permShkStd}{\\sigma_\\psi}\n",
    "\\newcommand{\\PermShk}{\\Psi} % New\n",
    "\\newcommand{\\permShk}{\\psi} % New\n",
    "\\newcommand{\\Rfree}{\\mathsf{R}}\n",
    "\\newcommand{\\Trg}{\\hat}\n",
    "\\newcommand{\\StE}{\\check}\n",
    "\\newcommand{\\Thorn}{\\pmb{\\TH}}\n",
    "\\newcommand{\\TranShkStd}{\\sigma_\\Theta}\n",
    "\\newcommand{\\TranShk}{\\Theta}\n",
    "\\newcommand{\\tranShk}{\\theta}\n",
    "\\newcommand{\\tranShkStd}{\\sigma_{\\theta}}\n",
    "\\newcommand{\\UnempPrb}{\\wp}\n",
    "\\newcommand\\maththorn{\\mathord{\\pmb{\\text{\\TH}}}}\n",
    "\\end{align}\n",
    "\n",
    "| Parameter | Description | Python Variable | Value |\n",
    "|:---:      | :---:       | :---:  | :---: |\n",
    "| $\\PermGroFac$ | Permanent Income Growth Factor | $\\texttt{PermGroFac}$ | 1.03 |\n",
    "| $\\Rfree$ | Interest Factor | $\\texttt{Rfree}$ | 1.04 |\n",
    "| $\\DiscFac$ | Time Preference Factor | $\\texttt{DiscFac}$ | 0.96 |\n",
    "| $\\CRRA$ | Coeﬃcient of Relative Risk Aversion| $\\texttt{CRRA}$ | 2 |\n",
    "| $\\UnempPrb$ | Probability of Unemployment | $\\texttt{UnempPrb}$ | 0.005 |\n",
    "| $\\tranShk^{\\large u}$ | Income when Unemployed | $\\texttt{IncUnemp}$ | 0. |\n",
    "| $\\permShkStd$ | Std Dev of Log Permanent Shock| $\\texttt{PermShkStd}$ | 0.1 |\n",
    "| $\\TranShkStd$ | Std Dev of Log Transitory Shock| $\\texttt{TranShkStd}$ | 0.1 |\n",
    "\n",
    "that define the preferences and environment of microeconomic consumers as detailed below.\n",
    "\n",
    "The objective of such a consumer with a horizon of $n$ periods is to maximize the value obtained from the stream of consumption __**c**__ from period $t=T-n$ to a terminal period $T$:\n",
    "\n",
    "\\begin{equation}\n",
    "\\mathbf{v}_{t} = \\sum_{i=0}^{n} \\DiscFac^{n}\\mathrm{u}(\\mathbf{c}_{t+n})\n",
    "\\end{equation}\n",
    "\n",
    "The infinite-horizon solution to the model is defined as the limit of the solution in the first period of life $\\mathrm{c}_{T-n}$ as the horizon $n$ goes to infinity."
   ]
  },
  {
   "cell_type": "markdown",
   "id": "fundamental-ratio",
   "metadata": {},
   "source": [
    "### Details\n",
    "For a microeconomic consumer who begins period $t$ with __**m**__arket resources boldface $\\mLev_{t}$ (=net worth plus current income), the amount that remains after __**c**__onsumption of $\\cLev_{t}$ will be end-of-period __**a**__ssets $\\aLev_{t}$,\n",
    "\n",
    "<!-- Next period's 'Balances' $B_{t+1}$ reflect this period's $\\aLev_{t}$ augmented by return factor $R$:-->"
   ]
  },
  {
   "cell_type": "markdown",
   "id": "anonymous-score",
   "metadata": {},
   "source": [
    "\\begin{eqnarray}\n",
    "\\aLev_{t}   &=&\\mLev_{t}-\\cLev_{t}. \\notag\n",
    "\\end{eqnarray}\n",
    "\n",
    "The consumer's __**p**__ermanent noncapital income $\\pLev$ grows by a predictable factor $\\PermGroFac$ and is subject to an unpredictable multiplicative shock $\\Ex_{t}[\\permShk_{t+1}]=1$,\n",
    "\n",
    "\\begin{eqnarray}\n",
    "\\pLev_{t+1} & = & \\pLev_{t} \\PermGroFac \\permShk_{t+1}, \\notag\n",
    "\\end{eqnarray}\n",
    "\n",
    "and, if the consumer is employed, actual income is permanent income multiplied by a transitory shock $\\tranShk^{\\large e}$.  There is also a probability $\\UnempPrb$ that the consumer will be temporarily unemployed and experience income of $\\tranShk^{\\large u}  = 0$.  We construct $\\tranShk^{\\large e}$ so that its mean value is $1/(1-\\UnempPrb)$ because in that case the mean level of the transitory shock (accounting for both unemployed and employed states) is exactly\n",
    "\n",
    "\\begin{eqnarray}\n",
    "\\Ex_{t}[\\tranShk_{t+1}] & = & \\tranShk^{\\large{u}}  \\times \\UnempPrb + (1-\\UnempPrb) \\times \\Ex_{t}[\\tranShk^{\\large{e}}_{t+1}] \\notag\n",
    "\\\\ & = & 0 \\times \\UnempPrb + (1-\\UnempPrb) \\times 1/(1-\\UnempPrb)  \\notag\n",
    "\\\\ & = & 1. \\notag\n",
    "\\end{eqnarray}\n",
    "\n",
    "  We can combine the unemployment shock $\\tranShk^{\\large u}$ and the transitory shock to employment income $\\tranShk^{\\large e}$ into $\\tranShk _{t+1}$, so that next period's market resources are\n",
    "\\begin{eqnarray}\n",
    "    \\mLev_{t+1} &=& \\aLev_{t}\\Rfree +\\pLev_{t+1}\\tranShk_{t+1}.  \\notag\n",
    "\\end{eqnarray}"
   ]
  },
  {
   "cell_type": "markdown",
   "id": "foster-action",
   "metadata": {},
   "source": [
    "When the consumer has a CRRA utility function $u(\\cLev)=\\frac{\\cLev^{1-\\CRRA}}{1-\\CRRA}$, the paper shows that the problem can be written in terms of ratios (nonbold font) of level (bold font) variables to permanent income, e.g. $m_{t} \\equiv \\mLev_{t}/\\pLev_{t}$, and the Bellman form of [the problem reduces to](https://econ-ark.github.io/BufferStockTheory/#The-Related-Problem):\n",
    "\n",
    "\\begin{eqnarray*}\n",
    "v_t(m_t) &=& \\max_{c_t}~~ u(c_t) + \\DiscFac~\\Ex_{t} [(\\PermGroFac\\permShk_{t+1})^{1-\\CRRA} v_{t+1}(m_{t+1}) ] \\\\\n",
    "& s.t. & \\\\\n",
    "a_t &=& m_t - c_t \\\\\n",
    "m_{t+1} &=& a_t \\Rfree/(\\PermGroFac \\permShk_{t+1}) + \\tranShk_{t+1} \\\\\n",
    "\\end{eqnarray*}"
   ]
  },
  {
   "cell_type": "code",
   "execution_count": null,
   "id": "respiratory-march",
   "metadata": {},
   "outputs": [],
   "source": [
    "# Define a dictionary with baseline parameter values"
   ]
  },
  {
   "cell_type": "code",
   "execution_count": null,
   "id": "chronic-harvey",
   "metadata": {
    "jupyter": {
     "source_hidden": true
    },
    "lines_to_next_cell": 0,
    "tags": []
   },
   "outputs": [],
   "source": [
    "# Import default parameter values (init_idiosyncratic_shock)\n",
    "\n",
    "# Set the parameters for the baseline results in the paper\n",
    "# using the variable names defined in the cell above\n",
    "base_params['PermGroFac'] = [1.03]  # Permanent income growth factor\n",
    "base_params['Rfree'] = Rfree = 1.04  # Interest factor on assets\n",
    "base_params['DiscFac'] = DiscFac = 0.96  # Time Preference Factor\n",
    "base_params['CRRA'] = CRRA = 2.00  # Coefficient of relative risk aversion\n",
    "# Probability of unemployment (e.g. Probability of Zero Income in the paper)\n",
    "base_params['UnempPrb'] = UnempPrb = 0.005\n",
    "base_params['IncUnemp'] = IncUnemp = 0.0   # Induces natural borrowing constraint\n",
    "base_params['PermShkStd'] = [0.1]   # Standard deviation of log permanent income shocks\n",
    "base_params['TranShkStd'] = [0.1]   # Standard deviation of log transitory income shocks"
   ]
  },
  {
   "cell_type": "code",
   "execution_count": null,
   "id": "textile-heritage",
   "metadata": {
    "jupyter": {
     "source_hidden": true
    },
    "lines_to_next_cell": 0,
    "tags": []
   },
   "outputs": [],
   "source": [
    "# Uninteresting housekeeping and details\n",
    "# Make global variables for the things that were lists above -- uninteresting housekeeping\n",
    "PermGroFac, PermShkStd, TranShkStd = base_params['PermGroFac'][0], base_params['PermShkStd'][0], base_params['TranShkStd'][0]\n",
    "\n",
    "# Some technical settings that are not interesting for our purposes\n",
    "base_params['LivPrb'] = [1.0]   # 100 percent probability of living to next period\n",
    "base_params['CubicBool'] = True    # Use cubic spline interpolation\n",
    "base_params['T_cycle'] = 1       # No 'seasonal' cycles\n",
    "base_params['BoroCnstArt'] = None    # No artificial borrowing constraint"
   ]
  },
  {
   "cell_type": "markdown",
   "id": "certified-bacon",
   "metadata": {},
   "source": [
    "## Convergence of the Consumption Rules\n",
    "\n",
    "Under the given parameter values, [the paper's first figure](https://econ-ark.github.io/BufferStockTheory/#Convergence-of-the-Consumption-Rules) depicts the successive consumption rules that apply in the last period of life $(c_{T}(m))$, the second-to-last period, and earlier periods $(c_{T-n})$.  The consumption function to which these converge is $c(m)$:\n",
    "\n",
    "$$\n",
    "c(m) = \\lim_{n \\uparrow \\infty} c_{T-n}(m) \\notag\n",
    "$$\n"
   ]
  },
  {
   "cell_type": "code",
   "execution_count": null,
   "id": "involved-pilot",
   "metadata": {},
   "outputs": [],
   "source": [
    "# Create a buffer stock consumer instance by invoking the IndShockConsumerType class"
   ]
  },
  {
   "cell_type": "code",
   "execution_count": null,
   "id": "registered-header",
   "metadata": {
    "jupyter": {
     "source_hidden": true
    },
    "lines_to_next_cell": 2,
    "tags": []
   },
   "outputs": [],
   "source": [
    "# with the built-in parameter dictionary \"base_params\"\n",
    "\n",
    "# Construct finite horizon agent with baseline parameters\n",
    "baseAgent_Fin = IndShockConsumerType(**base_params)\n",
    "baseAgent_Fin.cycles = 100   # Set finite horizon (T = 100)\n",
    "\n",
    "baseAgent_Fin.solve(verbose=0)        # Solve the model\n",
    "baseAgent_Fin.unpack('cFunc')  # Make the consumption function easily accessible"
   ]
  },
  {
   "cell_type": "code",
   "execution_count": null,
   "id": "human-minneapolis",
   "metadata": {},
   "outputs": [],
   "source": [
    "# Plot the different consumption rules for the different periods"
   ]
  },
  {
   "cell_type": "code",
   "execution_count": null,
   "id": "turkish-history",
   "metadata": {
    "jupyter": {
     "outputs_hidden": true,
     "source_hidden": true
    },
    "tags": []
   },
   "outputs": [],
   "source": [
    "\n",
    "mPlotMin = 0\n",
    "mLocCLabels = 9.6  # Defines horizontal limit of figure\n",
    "mPlotTop = 6.5    # Defines maximum m value where functions are plotted\n",
    "mPts = 1000      # Number of points at which functions are evaluated\n",
    "\n",
    "mBelwLabels = np.linspace(mPlotMin, mLocCLabels-0.1, mPts)  # Range of m below loc of labels\n",
    "m_FullRange = np.linspace(mPlotMin, mPlotTop, mPts)        # Full plot range\n",
    "# c_Tm0  defines the last period consumption rule (c=m)\n",
    "c_Tm0 = m_FullRange\n",
    "# c_Tm1 defines the second-to-last period consumption rule\n",
    "c_Tm1 = baseAgent_Fin.cFunc[-2](mBelwLabels)\n",
    "c_Tm5 = baseAgent_Fin.cFunc[-6](mBelwLabels)  # c_Tm5 defines the T-5 period consumption rule\n",
    "c_Tm10 = baseAgent_Fin.cFunc[-11](mBelwLabels)  # c_Tm10 defines the T-10 period consumption rule\n",
    "# c_Limt defines limiting inﬁnite-horizon consumption rule\n",
    "c_Limt = baseAgent_Fin.cFunc[0](mBelwLabels)\n",
    "plt.figure(figsize=(12, 9))\n",
    "plt.plot(mBelwLabels, c_Limt, color=\"black\")\n",
    "plt.plot(mBelwLabels, c_Tm1, color=\"black\")\n",
    "plt.plot(mBelwLabels, c_Tm5, color=\"black\")\n",
    "plt.plot(mBelwLabels, c_Tm10, color=\"black\")\n",
    "plt.plot(m_FullRange, c_Tm0, color=\"black\")\n",
    "plt.xlim(0, 11)\n",
    "plt.ylim(0, 7)\n",
    "plt.text(7.0, 6.0, r'$c_{T   }(m) = 45$ degree line', fontsize=22, fontweight='bold')\n",
    "plt.text(mLocCLabels, 5.3, r'$c_{T-1 }(m)$', fontsize=22, fontweight='bold')\n",
    "plt.text(mLocCLabels, 2.6, r'$c_{T-5 }(m)$', fontsize=22, fontweight='bold')\n",
    "plt.text(mLocCLabels, 2.1, r'$c_{T-10}(m)$', fontsize=22, fontweight='bold')\n",
    "plt.text(mLocCLabels, 1.7, r'$c(m)       $', fontsize=22, fontweight='bold')\n",
    "plt.arrow(6.9, 6.05, -0.6, 0, head_width=0.1, width=0.001,\n",
    "          facecolor='black', length_includes_head='True')\n",
    "plt.tick_params(labelbottom=False, labelleft=False, left='off',\n",
    "                right='off', bottom='off', top='off')\n",
    "plt.text(0, 7.05, \"$c$\", fontsize=26)\n",
    "plt.text(11.1, 0, \"$m$\", fontsize=26)\n",
    "# Save the figures in several formats\n",
    "\n",
    "make('cFuncsConverge')  # Comment out if you want to run uninterrupted"
   ]
  },
  {
   "cell_type": "markdown",
   "id": "saving-champagne",
   "metadata": {
    "slideshow": {
     "slide_type": "slide"
    }
   },
   "source": [
    "Use the [interactive dashboard](#interactive-dashboard) to explore the effects of changes in patience, risk aversion, or risk"
   ]
  },
  {
   "cell_type": "markdown",
   "id": "infinite-oasis",
   "metadata": {
    "jupyter": {
     "source_hidden": true
    },
    "tags": []
   },
   "source": [
    "## Factors and Conditions\n",
    "\n",
    "### [The Finite Human Wealth Condition](http://econ-ark.github.io/BufferStockTheory/#Human-Wealth)\n",
    "\n",
    "Human wealth for a perfect foresight consumer is the present discounted value of future income:\n",
    "\n",
    "\\begin{eqnarray}\\notag\n",
    "\\hLev_{t} & = & \\Ex_{t}[\\pLev_{t} + \\Rfree^{-1} \\pLev_{t+1} + \\Rfree^{2} \\pLev_{t+2} ... ] \\\\ \\notag\n",
    "      & = & \\pLev_{t} \\left(1 + (\\PermGroFac/\\Rfree) + (\\PermGroFac/\\Rfree)^{2} ... \\right)\n",
    "\\end{eqnarray}\n",
    "which approaches infinity as the horizon extends if $\\PermGroFac/\\Rfree \\geq 1$.  We say that the 'Finite Human Wealth Condition' [(FHWC)](https://econ-ark.github.io/BufferStockTheory/#FHWC) holds if\n",
    "$0 \\leq (\\PermGroFac/\\Rfree) < 1$."
   ]
  },
  {
   "cell_type": "markdown",
   "id": "legendary-university",
   "metadata": {
    "jupyter": {
     "source_hidden": true
    },
    "tags": []
   },
   "source": [
    "### [Absolute Patience and the AIC](https://econ-ark.github.io/BufferStockTheory/#AIC)\n",
    "\n",
    "The paper defines the Absolute Patience Factor [(APF)](https://econ-ark.github.io/BufferStockTheory/#APF) as being equal to the ratio $\\cLev_{t+1}/\\cLev_{t}$ for a perfect foresight consumer.  The Old English character <span style=\"font-size:larger;\">\"&#222;\"</span> used for this object in the paper cannot currently be rendered conveniently in Jupyter notebooks, so we will substitute $\\APF$ here:\n",
    "\n",
    "\\begin{equation}\n",
    "\\PatFac = (\\Rfree \\DiscFac)^{1/\\CRRA}\n",
    "\\end{equation}\n",
    "\n",
    "If $\\APF = 1$, a perfect foresight consumer will spend at exactly the level of $\\cLev$ that can be sustained perpetually (given their current and future resources).  If $\\APF < 1$ (the consumer is 'absolutely impatient'; or, 'the absolute impatience condition holds'), the consumer is consuming more than the sustainable amount, so consumption will fall, and if the consumer is 'absolutely patient' with $\\APF > 1$ consumption will grow over time.\n",
    "\n"
   ]
  },
  {
   "cell_type": "markdown",
   "id": "collaborative-brush",
   "metadata": {},
   "source": [
    "### [Growth Patience and the GICRaw](https://econ-ark.github.io/BufferStockTheory/#GIC)\n",
    "\n",
    "For a [perfect foresight consumer](https://www.econ2.jhu.edu/people/ccarroll/public/lecturenotes/consumption/PerfForesightCRRA), whether the ratio $c$=__**c**__/__**p**__ is rising, constant, or falling depends on the relative growth rates of consumption and permanent income; that ratio is measured by the [Perfect Foresight Growth Patience Factor](https://econ-ark.github.io/BufferStockTheory/#PFGPF):\n",
    "\n",
    "\\begin{eqnarray}\n",
    "\\APF_{\\PermGroFac} & = & \\APF/\\PermGroFac\n",
    "\\end{eqnarray}\n",
    "and whether the $c$ is falling or rising over time depends on whether $\\APF_{\\PermGroFac}$ is below or above 1.\n",
    "\n",
    "An analogous condition can be defined when there is uncertainty about permanent income.  Defining $\\tilde{\\PermGroFac} = (\\Ex[\\permShk^{-1}])^{-1}\\PermGroFac$, the 'Growth Impatience Condition' [(GICRaw)](https://econ-ark.github.io/BufferStockTheory/#GIC) determines whether, _in expectation_, the stochastic value of $c$ is rising, constant, or falling over time:\n",
    "\\begin{eqnarray}\n",
    "  \\APF/\\tilde{\\PermGroFac} & < & 1\n",
    "\\end{eqnarray}"
   ]
  },
  {
   "cell_type": "markdown",
   "id": "significant-hopkins",
   "metadata": {
    "lines_to_next_cell": 2
   },
   "source": [
    "### [The Finite Value of Autarky Condition (FVAC)](https://econ-ark.github.io/BufferStockTheory/#Autarky-Value)"
   ]
  },
  {
   "cell_type": "markdown",
   "id": "hybrid-montgomery",
   "metadata": {},
   "source": [
    "The paper [shows](https://econ-ark.github.io/BufferStockTheory/#Autarky-Value) that a consumer who planned to spend his permanent income $\\{ \\pLev_{t}, \\pLev_{t+1}, ...\\} $ in every period would have value defined by\n",
    "\n",
    "\\begin{equation*}\n",
    "\\vLev_{t}^{\\text{autarky}} = \\uFunc(\\pLev_{t})\\left(\\frac{1}{1-\\DiscFac \\PermGroFac^{1-\\CRRA} \\Ex[\\permShk^{1-\\CRRA}]}\\right)\n",
    "\\end{equation*}\n",
    "\n",
    "and defines the 'Finite Value of Autarky Condition' as the requirement that the denominator be a positive finite number:\n",
    "\n",
    "\\begin{equation*}\n",
    "\\DiscFac \\PermGroFac^{1-\\CRRA} \\Ex[\\permShk^{1-\\CRRA}] < 1\n",
    "\\end{equation*}"
   ]
  },
  {
   "cell_type": "markdown",
   "id": "reported-joining",
   "metadata": {},
   "source": [
    "### [The Weak Return Impatience Condition (WRIC)](https://econ-ark.github.io/BufferStockTheory/#WRIC)\n",
    "\n",
    "The [Return Impatience Condition](https://econ-ark.github.io/BufferStockTheory/#RIC) $\\APF/\\Rfree < 1$ has long been understood to be required for the perfect foresight model to have a nondegenerate solution (a common special case is when $\\CRRA=1$; in this case $\\APF = \\Rfree \\DiscFac$ so $\\APF<1$ reduces to $\\DiscFac < \\Rfree$).\n",
    "\n",
    "If the RIC does not hold, the consumer is so patient that the optimal consumption function approaches zero as the horizon extends indefinitely.\n",
    "\n",
    "When the probability of unemployment is $\\UnempPrb$, the paper articulates an analogous (but weaker) condition:\n",
    "\n",
    "\\begin{eqnarray}\n",
    " \\UnempPrb^{1/\\CRRA} \\APF/\\Rfree & < & 1\n",
    "\\end{eqnarray}"
   ]
  },
  {
   "cell_type": "markdown",
   "id": "compliant-vacation",
   "metadata": {},
   "source": [
    "# Key Results\n",
    "\n",
    "## [Nondegenerate Solution Requires FVAC and WRIC](https://econ-ark.github.io/BufferStockTheory/#Sufficient-Conditions-For-Nondegenerate-Solution)\n",
    "\n",
    "A main result of the paper is that the conditions required for the model to have a nondegenerate solution ($0 < c(m) < \\infty$ for feasible $m$) are that the Finite Value of Autarky (FVAC) and Weak Return Impatience Condition (WRIC) hold."
   ]
  },
  {
   "cell_type": "markdown",
   "id": "charming-parish",
   "metadata": {},
   "source": [
    "## [Natural Borrowing Constraint limits to Artificial Borrowing Constraint](https://econ-ark.github.io/BufferStockTheory/#The-Liquidity-Constrained-Solution-as-a-Limit)"
   ]
  },
  {
   "cell_type": "markdown",
   "id": "academic-steam",
   "metadata": {},
   "source": [
    "Defining $\\chi(\\UnempPrb)$ as the consumption function associated with any particular value of $\\UnempPrb$, and defining $\\hat{\\chi}$ as the consumption function that would apply in the absence of the zero-income shocks but in the presence of an 'artificial' borrowing constraint requiring $a \\geq 0$ (_a la_ Deaton (1991)), the paper shows that\n",
    "\n",
    "\\begin{eqnarray}\n",
    "\\lim_{\\UnempPrb \\downarrow 0}~\\chi(\\UnempPrb) & = & \\hat{\\chi}\n",
    "\\end{eqnarray}\n",
    "\n",
    "That is, as $\\UnempPrb$ approaches zero the problem with uncertainty becomes identical to the problem that instead has constraints.  (See [Precautionary Saving and Liquidity Constraints](https://econ-ark.github.io/LiqConstr) for a full treatment of the relationship between precautionary saving and liquidity constraints)."
   ]
  },
  {
   "cell_type": "markdown",
   "id": "relative-evans",
   "metadata": {},
   "source": [
    "## [$\\cFunc(m)$ can be Finite Even When Human Wealth Is Infinite](https://econ-ark.github.io/BufferStockTheory/#When-The-GICRaw-Fails)\n",
    "\n",
    "In the perfect foresight model, if $\\Rfree < \\PermGroFac$ the PDV of future labor income approaches infinity and so the limiting consumption function is $c(m) = \\infty$ for all $m$.  Many models have no well-defined solution when human wealth is infinite.\n",
    "\n",
    "The presence of uncertainty changes this: Even when limiting human wealth is infinite, the limiting consumption function is finite for all values of $m$.\n",
    "\n",
    "This is because uncertainty imposes a \"natural borrowing constraint\" that deters the consumer from borrowing against their unbounded (but uncertain) future labor income."
   ]
  },
  {
   "cell_type": "markdown",
   "id": "disturbed-solomon",
   "metadata": {},
   "source": [
    "A [table](https://econ-ark.github.io/BufferStockTheory/#Sufficient-Conditions-For-Nondegenerate-Solution) puts this result in the context of implications of other conditions and restrictions.\n",
    "\n"
   ]
  },
  {
   "cell_type": "markdown",
   "id": "excess-guitar",
   "metadata": {},
   "source": [
    "## [Unique and Stable Values of $\\mNrm$](https://econ-ark.github.io/BufferStockTheory/#Unique-Stable-Points)\n",
    "\n",
    "Assuming that the **FVAC** and **WRIC** hold so that the problem has a nondegenerate solution, under more stringent conditions its dynamics may also exhibit stability.  Two particularly useful kinds of stability are existence of a 'target' value of market resources $\\Trg{\\mNrm}$ and a 'pseudo-steady-state' value $\\StE{\\mNrm}$.\n",
    "\n",
    "### [If the GIC-Nrm Holds, $\\exists$ a finite 'target' $\\mNrm$](https://econ-ark.github.io/BufferStockTheory/#onetarget)\n",
    "\n",
    "Section [Individual Target Wealth](https://econ-ark.github.io/BufferStockTheory/#onetarget) shows that, under parameter values for which the limiting consumption function exists, if the GICRaw holds then there will be a value $\\Trg{m}$ such that:\n",
    "\n",
    "\\begin{eqnarray*}\n",
    "\\Ex[m_{t+1}] & > & m_{t}~\\text{if $m_{t} < \\Trg{m}$} \\\\\n",
    "\\Ex[m_{t+1}] & < & m_{t}~\\text{if $m_{t} > \\Trg{m}$} \\\\\n",
    "\\Ex[m_{t+1}] & = & m_{t}~\\text{if $m_{t} = \\Trg{m}$}\n",
    "\\end{eqnarray*}\n",
    "\n",
    "[An equation](https://econ-ark.github.io/BufferStockTheory/#mTargImplicit) in the paper tells us that if $\\mNrm_{t}=\\Trg{m}$ then:\n",
    "\\begin{align}\n",
    "(\\Trg{\\mNrm}-\\cFunc(\\Trg{\\mNrm}))\\bar{\\RNrm}+1 & = \\Trg{\\mNrm}\n",
    "%\\\\ \\Trg{\\mNrm}(1-\\bar{\\RNrm}^{-1})+\\bar{\\RNrm}^{-1} & = \\Trg{\\cNrm}\n",
    "%\\\\ \\Trg{\\cNrm} & = \\Trg{\\mNrm} - (\\Trg{\\mNrm} - 1)\\bar{\\RNrm}^{-1}\n",
    "\\end{align}\n",
    "which can be solved numerically for the unique $\\mNrm$ that satisfies it.\n",
    "\n",
    "### [If the GIC Holds, $\\exists$ a finite 'pseudo-steady-state' $\\mNrm$](https://econ-ark.github.io/BufferStockTheory/#Collective-Stability)\n",
    "\n",
    "Section [Collective Stability and the Pseudo-Steady-State](https://econ-ark.github.io/BufferStockTheory/#Collective-Stability) shows that, under parameter values for which the limiting consumption function exists, if the **GIC** holds then there will be a value $\\Trg{m}$ such that:\n",
    "\n",
    "\\begin{eqnarray*}\n",
    "\\Ex_{t}[\\mLev_{t+1}/\\mLev_{t}] & > & \\PermGroFac~\\text{if $m_{t} < \\StE{m}$} \\\\\n",
    "\\Ex_{t}[\\mLev_{t+1}/\\mLev_{t}] & < & \\PermGroFac~\\text{if $m_{t} > \\StE{m}$} \\\\\n",
    "\\Ex_{t}[\\mLev_{t+1}/\\mLev_{t}] & = & \\PermGroFac~\\text{if $m_{t} = \\StE{m}$}\n",
    "\\end{eqnarray*}\n",
    "\n",
    "[An equation](https://econ-ark.github.io/BufferStockTheory/#balgrostableSolve) in the paper tells us that if $\\mNrm_{t}=\\StE{m}$ then:\n",
    "\\begin{align}\n",
    "(\\StE{\\mNrm}-\\cFunc(\\StE{\\mNrm}))\\RNrm+1 & = \\StE{\\mNrm}\n",
    "\\end{align}\n",
    "which can be solved numerically for the unique $\\StE{\\mNrm}$ that satisfies it.\n",
    "\n",
    "\n",
    "### [Example With Finite Pseudo-Steady-State But Infinite Target Wealth](https://econ-ark.github.io/BufferStockTheory/#GICNrmFailsButGICRawHolds)\n",
    "\n",
    "[A figure](https://econ-ark.github.io/BufferStockTheory/#GICNrmFailsButGICRawHolds) depicts a solution when the **FVAC** (Finite Value of Autarky Condition) and **WRIC** hold (so that the model has a solution), the **GIC** holds, so the model has a pseudo-steady-state $\\StE{\\mNrm}$, but the **GIC-Nrm** fails, so the model does not have an individual target wealth ratio $\\Trg{\\mNrm}$ (or, rather, the target wealth ratio is infinity, as can be seen by the fact that the level of $\\cNrm$ is always below the level that would keep $\\Ex_{t}[\\Delta \\mNrm_{t+1}] = 0$)\n",
    "\n",
    "This example was constructed by quadrupling the variance of the permanent shocks from the baseline parameterization"
   ]
  },
  {
   "cell_type": "code",
   "execution_count": null,
   "id": "surgical-indianapolis",
   "metadata": {
    "jupyter": {
     "outputs_hidden": true,
     "source_hidden": true
    },
    "tags": []
   },
   "outputs": [],
   "source": [
    "# GICNrmFailsButGICRawHolds Example\n",
    "GICNrmFailsButGICRawHoldsDict = dict(base_params)\n",
    "GICNrmFailsButGICRawHoldsDict['PermShkStd'] = [0.2]  # Increase patience by increasing risk\n",
    "\n",
    "# Because we are trying to solve a problem very close to the critical patience values\n",
    "# be sure to do it with extra precision\n",
    "\n",
    "# Solve with twice the normal number of gridpoints\n",
    "GICNrmFailsButGICRawHoldsDict['aXtraMax'] = base_params['aXtraCount'] * 2\n",
    "\n",
    "# Solve over a four times larger range\n",
    "GICNrmFailsButGICRawHoldsDict['aXtraCount'] = base_params['aXtraCount'] * 4\n",
    "\n",
    "GICNrmFailsButGICRawHolds = IndShockConsumerType(\n",
    "    cycles=0,  # cycles=0 makes this an infinite horizon consumer\n",
    "    verbose=3,  # by default, check conditions won't print out any information\n",
    "    **GICNrmFailsButGICRawHoldsDict)\n",
    "\n",
    "# Solve to a tighter than usual degree of error tolerance\n",
    "GICNrmFailsButGICRawHolds.tolerance = GICNrmFailsButGICRawHolds.tolerance/100\n",
    "\n",
    "# The check_conditions method does what it sounds like it would\n",
    "# verbose=0: Print nothing;\n",
    "# verbose=3: Print all available info\n",
    "\n",
    "GICNrmFailsButGICRawHolds.solve(verbose=2)"
   ]
  },
  {
   "cell_type": "code",
   "execution_count": null,
   "id": "hairy-vulnerability",
   "metadata": {
    "jupyter": {
     "source_hidden": true
    },
    "tags": []
   },
   "outputs": [],
   "source": [
    "# Plot GICNrmFailsButGICRawHolds\n",
    "\n",
    "#fig = plt.figure(figsize = (12,8))\n",
    "# ax  = fig.add_subplot(111)\n",
    "\n",
    "fig, ax = plt.subplots(figsize=(12, 8))\n",
    "[xMin, xMax] = [0.0, 8.0]\n",
    "yMin = 0.0\n",
    "yMax = GICNrmFailsButGICRawHolds.solution[0].c_where_Ex_mtp1_minus_mt_eq_0(xMax)*1.3\n",
    "\n",
    "mPltVals = np.linspace(xMin, xMax, mPts)\n",
    "\n",
    "if latexExists:\n",
    "    c_Stable_Ind_txt = \"$\\Ex_{t}[\\Delta m_{t+1}] = 0$\"\n",
    "    c_Stable_Agg_txt = \"$\\Ex_{t}[\\pmb{\\mathrm{m}}_{t+1}/\\pmb{\\mathrm{m}}_{t}] = \\PermGroFac$\"\n",
    "else:\n",
    "    c_Stable_Ind_txt = \"$\\mathsf{E}_{t}[\\Delta m_{t+1}] = 0$\"\n",
    "    c_Stable_Agg_txt = \"$\\mathsf{E}_{t}[\\mathbf{m}_{t+1}/\\mathbf{m}_{t}] = \\PermGroFac$\"\n",
    "\n",
    "\n",
    "cVals_Lmting_color = \"black\"\n",
    "c_Stable_Agg_color = \"black\"  # \"blue\"\n",
    "c_Stable_Ind_color = \"black\"  # \"red\"\n",
    "\n",
    "cVals_Lmting = GICNrmFailsButGICRawHolds.solution[0].cFunc(mPltVals)\n",
    "c_Stable_Ind = GICNrmFailsButGICRawHolds.solution[0].c_where_Ex_mtp1_minus_mt_eq_0(mPltVals)\n",
    "c_Stable_Agg = GICNrmFailsButGICRawHolds.solution[0].c_where_Ex_PermShk_times_mtp1_minus_mt_eq_0(\n",
    "    mPltVals)\n",
    "\n",
    "cVals_Lmting_lbl, = ax.plot(mPltVals, cVals_Lmting, color=cVals_Lmting_color)\n",
    "c_Stable_Ind_lbl, = ax.plot(mPltVals, c_Stable_Ind,\n",
    "                            color=c_Stable_Ind_color, linestyle=\"dashed\", label=c_Stable_Ind_txt)\n",
    "c_Stable_Agg_lbl, = ax.plot(mPltVals, c_Stable_Agg,\n",
    "                            color=c_Stable_Agg_color, linestyle=\"dotted\", label=c_Stable_Agg_txt)\n",
    "\n",
    "ax.set_xlim(xMin, xMax)\n",
    "ax.set_ylim(yMin, yMax)\n",
    "ax.set_xlabel(\"$\\mathit{m}$\", fontweight='bold', fontsize=fsmid, loc=\"right\")\n",
    "ax.set_ylabel(\"$\\mathit{c}$\", fontweight='bold', fontsize=fsmid, loc=\"top\", rotation=0)\n",
    "# plt.text(xMin,yMax+0.03, \"$c$\", fontsize=26)\n",
    "# plt.text(xMax-0.05,yMin, \"$m$\", fontsize=26)\n",
    "ax.tick_params(labelbottom=False, labelleft=False, left='off',\n",
    "               right='off', bottom='off', top='off')\n",
    "\n",
    "#ax.arrow(0.98, 0.62, -0.2, 0, head_width=0.02, width=0.001,facecolor='black', length_includes_head='True')\n",
    "#ax.arrow(2.2, 1.2, 0.3, -0.05, head_width=0.02, width=0.001,facecolor='black', length_includes_head='True')\n",
    "\n",
    "ax.legend(handles=[c_Stable_Ind_lbl, c_Stable_Agg_lbl])\n",
    "ax.legend(prop=dict(size=fsmid))\n",
    "\n",
    "mNrmStE = GICNrmFailsButGICRawHolds.solution[0].mNrmStE\n",
    "cNrmStE = c_Stable_Agg = GICNrmFailsButGICRawHolds.solution[0].c_where_Ex_PermShk_times_mtp1_minus_mt_eq_0(\n",
    "    mNrmStE)\n",
    "#mNrmStE_lbl, = ax.plot([mNrmStE,mNrmStE],[yMin,yMax],color=\"green\",linestyle=\"--\",label='Pseudo-Steady-State: $\\mathbb{E}_{t}[\\pmb{m}_{t+1}/\\pmb{m}_{t}]=\\Gamma$')\n",
    "\n",
    "ax.plot(mNrmStE, cNrmStE, marker=\".\", markersize=15, color=\"black\")  # Dot at StE point\n",
    "ax.text(1, 0.6, \"$\\mathrm{c}(m_{t})$\", fontsize=fsmid)  # label cFunc\n",
    "\n",
    "if latexExists:\n",
    "    ax.text(mNrmStE+0.02, cNrmStE-0.10, r\"$\\nwarrow$\", fontsize=fsmid)\n",
    "    ax.text(mNrmStE+0.25, cNrmStE-0.18, r\"$\\phantom{\\nwarrow} \\StE{\\mNrm}$\", fontsize=fsmid)\n",
    "else:\n",
    "    ax.text(mNrmStE+0.02, cNrmStE-0.10, r\"$\\nwarrow$\", fontsize=fsmid)\n",
    "    ax.text(mNrmStE+0.25, cNrmStE-0.18, r\"$\\phantom{\\nwarrow} \\StE{\\mNrm}$\", fontsize=fsmid)\n",
    "\n",
    "make('GICNrmFailsButGICRawHolds')\n",
    "print('Finite mNrmStE but infinite mNrmTrg')"
   ]
  },
  {
   "cell_type": "markdown",
   "id": "early-borough",
   "metadata": {},
   "source": [
    "In the [interactive dashboard](#interactive-dashboard), see what happens as changes in the time preference rate (or changes in risk $\\permShkStd$) change the consumer from _normalized-growth-patient_ $(\\APF > \\tilde{\\PermGroFac})$ to _normalized-growth-impatient_ ($\\APF < \\tilde{\\PermGroFac}$)"
   ]
  },
  {
   "cell_type": "markdown",
   "id": "adverse-humanity",
   "metadata": {},
   "source": [
    "As a foundation for the remaining figures, we define another instance of the class $\\texttt{IndShockConsumerType}$, which has the same parameter values as the instance $\\texttt{baseAgent}$ defined previously but is solved to convergence (our definition of an infinite horizon agent type) instead of only 100 periods\n"
   ]
  },
  {
   "cell_type": "code",
   "execution_count": null,
   "id": "expressed-explanation",
   "metadata": {},
   "outputs": [],
   "source": [
    "# Find the infinite horizon solution"
   ]
  },
  {
   "cell_type": "code",
   "execution_count": null,
   "id": "exposed-hindu",
   "metadata": {
    "jupyter": {
     "source_hidden": true
    },
    "tags": []
   },
   "outputs": [],
   "source": [
    "baseAgent_Inf = IndShockConsumerType(cycles=0    # Infinite horizon\n",
    "                                     , verbose=0  # solve silently\n",
    "                                     , **base_params)\n",
    "baseAgent_Inf.solve()"
   ]
  },
  {
   "cell_type": "markdown",
   "id": "banner-father",
   "metadata": {
    "tags": []
   },
   "source": [
    "### [Target $m$, Expected Consumption Growth, and Permanent Income Growth](https://www.econ2.jhu.edu/people/ccarroll/papers/BufferStockTheory/#AnalysisoftheConvergedConsumptionFunction)\n",
    "\n",
    "The next figure, [Analysis of the Converged Consumption Function](https://www.econ2.jhu.edu/people/ccarroll/papers/BufferStockTheory/#cGroTargetFig), shows expected growth factors for the levels of consumption $\\cLev$ and market resources $\\mLev$ as a function of the market resources ratio $\\mNrm$ for a consumer behaving according to the converged consumption rule, along with the growth factor for an unconstrained perfect foresight consumer which is constant at $\\APF$ and the growth factor for permanent income which is constant at $\\PermGroFac$.\n",
    "\n",
    "The growth factor for consumption can be computed without knowing the _level_ of the consumer's permanent income:\n",
    "\\begin{eqnarray*}\n",
    "\\Ex_{t}[\\cLev_{t+1}/\\cLev_{t}] & = & \\Ex_{t}\\left[\\frac{\\pLev_{t+1}\\cFunc(m_{t+1})}{\\pLev_{t}\\cFunc(m_{t})}\\right] \\\\\n",
    "% & = & \\Ex_{t}\\left[\\frac{\\PermGroFac \\permShk_{t+1} \\pLev_{t}}{\\pLev_{t}}\\frac{\\cFunc(m_{t+1})}{\\cFunc(m_{t})}\\right] \\\\\n",
    "& = & \\Ex_{t}\\left[\\frac{\\PermGroFac \\permShk_{t+1} \\cFunc(m_{t+1})}{\\cFunc(m_{t})}\\right]\n",
    "\\end{eqnarray*}\n",
    "\n",
    "and similarly the growth factor for market resources is:\n",
    "\\begin{eqnarray*}\n",
    "\\Ex_{t}[\\mLev_{t+1}/\\mLev_{t}]\n",
    "& = & \\Ex_{t}\\left[\\frac{\\PermGroFac \\permShk_{t+1} \\mNrm_{t+1}}{\\mNrm_{t}}\\right]\n",
    "\\end{eqnarray*}\n",
    "\n"
   ]
  },
  {
   "cell_type": "code",
   "execution_count": null,
   "id": "settled-samoa",
   "metadata": {
    "jupyter": {
     "source_hidden": true
    },
    "lines_to_next_cell": 2,
    "tags": []
   },
   "outputs": [],
   "source": [
    "# Growth factors as a function of market resource ratio\n",
    "\n",
    "color_cons = \"blue\"\n",
    "color_mrkt = \"red\"\n",
    "color_perm = \"black\"\n",
    "\n",
    "mPlotMin = 0.0\n",
    "mCalcMax = 50\n",
    "mPlotMax = 2.20\n",
    "\n",
    "# Get StE and target values\n",
    "mNrmStE = baseAgent_Inf.solution[0].mNrmStE\n",
    "mNrmTrg = baseAgent_Inf.solution[0].mNrmTrg\n",
    "\n",
    "pts_num = 200  # Plot this many points\n",
    "\n",
    "m_pts = np.linspace(1, mPlotMax, pts_num)        # values of m for plot\n",
    "c_pts = baseAgent_Inf.solution[0].cFunc(m_pts)  # values of c for plot\n",
    "a_pts = m_pts - c_pts                          # values of a\n",
    "\n",
    "Ex_cLev_tp1_Over_pLev_t = [\n",
    "    baseAgent_Inf.solution[0].Ex_cLev_tp1_Over_pLev_t_from_at(a) for a in a_pts]\n",
    "Ex_mLev_tp1_Over_pLev_t = [\n",
    "    baseAgent_Inf.solution[0].Ex_mLev_tp1_Over_pLev_t_from_at(a) for a in a_pts]\n",
    "\n",
    "Ex_cGro = np.array(Ex_cLev_tp1_Over_pLev_t)/c_pts\n",
    "Ex_mGro = np.array(Ex_mLev_tp1_Over_pLev_t)/m_pts\n",
    "\n",
    "# Retrieve parameters (makes code readable)\n",
    "Rfree = baseAgent_Inf.Rfree\n",
    "DiscFac = baseAgent_Inf.DiscFac\n",
    "CRRA = baseAgent_Inf.CRRA\n",
    "PermGro = baseAgent_Inf.PermGroFac[0]\n",
    "mNrmStE = baseAgent_Inf.solution[0].mNrmStE\n",
    "mNrmTrg = baseAgent_Inf.solution[0].mNrmTrg\n",
    "\n",
    "# Absolute Patience Factor = lower bound of consumption growth factor\n",
    "APF = (Rfree*DiscFac)**(1.0/CRRA)\n",
    "\n",
    "# Create figure object\n",
    "fig = plt.figure(figsize=(12, 8))\n",
    "ax = fig.add_subplot(111)  # axes object\n",
    "\n",
    "# Plot the Absolute Patience Factor line\n",
    "ax.plot([0, mPlotMax], [APF, APF], color=color_cons)\n",
    "\n",
    "# Plot the Permanent Income Growth Factor line\n",
    "ax.plot([0, mPlotMax], [PermGro, PermGro], color=color_perm)\n",
    "\n",
    "# Plot the expected consumption growth factor\n",
    "ax.plot(m_pts, Ex_cGro, color=color_cons)\n",
    "\n",
    "# Plot the expected consumption growth factor on the right side of target m\n",
    "ax.plot(m_pts, Ex_mGro, color=\"red\")\n",
    "\n",
    "# Axes limits\n",
    "GroFacMin = 0.98  # 0.98\n",
    "GroFacMax = 1.06  # 1.08\n",
    "xMin = 1.1  # 1.0\n",
    "\n",
    "# Vertical lines at StE and Trg\n",
    "mNrmStE_lbl, = ax.plot([mNrmStE, mNrmStE], [0, GroFacMax], color=color_mrkt, linestyle=\"--\",\n",
    "                       label='$\\StE{m}:$ Pseudo-Steady-State: $\\mathbb{E}_{t}[\\pmb{\\mathrm{m}}_{t+1}/\\pmb{\\mathrm{m}}_{t}]=\\Gamma$')\n",
    "mNrmTrg_lbl, = ax.plot([mNrmTrg, mNrmTrg], [0, GroFacMax], color=color_mrkt,\n",
    "                       linestyle=\"dotted\", label='$\\Trg{m}:$ Target: $\\mathbb{E}_{t}[m_{t+1}]=m_{t}$')\n",
    "ax.text(mNrmStE-0.12, 0.985, r'$\\StE{m}\\rightarrow$', fontsize=fsbig, fontweight='bold')\n",
    "ax.text(mNrmTrg+0.01, 0.985, r'$\\leftarrow\\Trg{m}$', fontsize=fsbig, fontweight='bold')\n",
    "\n",
    "ax.legend(handles=[mNrmStE_lbl, mNrmTrg_lbl])\n",
    "ax.legend(prop=dict(size=fsmid))\n",
    "\n",
    "ax.set_xlim(xMin, mPlotMax * 1.1)\n",
    "ax.set_ylim(GroFacMin, GroFacMax)\n",
    "\n",
    "# If latex installed on system, plotting can look better\n",
    "if latexExists:\n",
    "    ax.text(mPlotMax+0.01, 1.01,\n",
    "            \"$\\Ex_{t}[\\cLev_{t+1}/\\cLev_{t}]$\", fontsize=fsmid, fontweight='bold')\n",
    "    ax.text(mPlotMax*0.80, 0.985+0.02*0,\n",
    "            \"$\\leftarrow \\Ex_{t}[\\mLev_{t+1}/\\mLev_{t}]$\", fontsize=fsmid, fontweight='bold')\n",
    "    ax.text(mPlotMax, 0.998,\n",
    "            r'$\\pmb{\\text{\\TH}} = (\\Rfree\\DiscFac)^{1/\\CRRA}$', fontsize=fsmid, fontweight='bold')\n",
    "else:\n",
    "    ax.text(mPlotMax+0.01, 1.01,\n",
    "            \"$\\mathsf{E}_{t}[\\mathbf{c}_{t+1}/\\mathbf{c}_{t}]$\", fontsize=fsmid, fontweight='bold')\n",
    "    ax.text(mPlotMax*0.80, 0.985+0.02*0,\n",
    "            \"$\\leftarrow \\mathsf{E}_{t}[\\mathbf{m}_{t+1}/\\mathbf{m}_{t}]$\", fontsize=fsmid, fontweight='bold')\n",
    "    ax.text(mPlotMax, 0.998,\n",
    "            r'$\\Phi = (\\mathsf{\\Rfree}\\DiscFac)^{1/\\CRRA}$', fontsize=fsmid, fontweight='bold')\n",
    "\n",
    "# Ticks\n",
    "ax.tick_params(labelbottom=False, labelleft=True, left='off', right='on', bottom='on', top='off')\n",
    "plt.setp(ax.get_yticklabels(), fontsize=fssml)\n",
    "\n",
    "ax.text(mPlotMax+0.01, 1.029, r'$\\PermGroFac$', fontsize=fsmid, fontweight='bold')\n",
    "ax.set_ylabel('Growth Factors', fontsize=fsmid, fontweight='bold')\n",
    "\n",
    "make('cGroTargetFig')"
   ]
  },
  {
   "cell_type": "markdown",
   "id": "recorded-designation",
   "metadata": {},
   "source": [
    "In the [interactive dashboard](#interactive-dashboard) see how target wealth changes when the consumer's time preference factor β or the growth factor Γ change."
   ]
  },
  {
   "cell_type": "markdown",
   "id": "regional-puppy",
   "metadata": {},
   "source": [
    "### [Consumption Function Bounds](https://www.econ2.jhu.edu/people/ccarroll/papers/BufferStockTheory/#AnalysisOfTheConvergedConsumptionFunction)\n",
    "[The next figure](https://www.econ2.jhu.edu/people/ccarroll/papers/BufferStockTheory/#cFuncBounds)\n",
    "illustrates theoretical bounds for the consumption function.\n",
    "\n",
    "We define two useful variables: lower bound of $\\MPC$ (marginal propensity to consume) and limit of $h$ (Human wealth), along with some functions such as the limiting perfect foresight consumption function $\\bar{c}(m)$, the upper bound function $\\bar{\\bar c}(m)$, and the lower bound function \\tilde{_c_}$(m)$."
   ]
  },
  {
   "cell_type": "code",
   "execution_count": null,
   "id": "minimal-cleveland",
   "metadata": {
    "jupyter": {
     "source_hidden": true
    },
    "tags": []
   },
   "outputs": [],
   "source": [
    "# Define κ_Min, h_inf and PF consumption function, upper and lower bound of c function\n",
    "\n",
    "# Retrieve parameters (makes code below more readable)\n",
    "R = Rfree = baseAgent_Inf.Rfree\n",
    "β = DiscFac = baseAgent_Inf.DiscFac\n",
    "ρ = CRRA = baseAgent_Inf.CRRA\n",
    "Γ = PermGro = baseAgent_Inf.PermGroFac[0]\n",
    "℘ = UnempPrb = baseAgent_Inf.UnempPrb\n",
    "\n",
    "mNrmTrg = baseAgent_Inf.solution[0].mNrmTrg\n",
    "mNrmStE = baseAgent_Inf.solution[0].mNrmStE\n",
    "\n",
    "κ_Min = 1.0-(R**(-1.0))*(R * β)**(1.0/ρ)\n",
    "h_inf = (1.0/(1.0-Γ/R))\n",
    "\n",
    "\n",
    "def cFunc_Uncnst(m): return (h_inf - 1) * κ_Min + κ_Min*m\n",
    "def cFunc_TopBnd(m): return (1 - ℘ ** (1/ρ)*(R*β)**(1.0/ρ)/R)*m\n",
    "def cFunc_BotBnd(m): return (1 - (R*β)**(1/ρ)/R) * m"
   ]
  },
  {
   "cell_type": "code",
   "execution_count": null,
   "id": "obvious-coach",
   "metadata": {
    "jupyter": {
     "source_hidden": true
    },
    "lines_to_next_cell": 2,
    "tags": []
   },
   "outputs": [],
   "source": [
    "# Plot the consumption function and its bounds\n",
    "\n",
    "cMaxLabel = r'$\\overline{c}(m)= (m-1+h)\\tilde{\\kappa}$'\n",
    "cMinLabel = r'Lower Bound: $\\tilde{c}(m)= (1-\\pmb{\\text{\\TH}}_{R})\\tilde{\\kappa}m$'\n",
    "if not latexExists:\n",
    "    cMaxLabel = r'$\\overline{c}(m) = (m-1+h)κ̲'  # Use unicode kludge\n",
    "    cMinLabel = r'Lower Bound: c̲$(m)= (1-\\Phi_{R})m = κ̲ m$'\n",
    "\n",
    "mPlotMax = 25\n",
    "mPlotMin = 0\n",
    "# mKnk is point where the two upper bounds meet\n",
    "mKnk = ((h_inf-1) * κ_Min)/((1 - UnempPrb**(1.0/CRRA)*(Rfree*DiscFac)**(1.0/CRRA)/Rfree)-κ_Min)\n",
    "mBelwKnkPts = 300\n",
    "mAbveKnkPts = 700\n",
    "mBelwKnk = np.linspace(mPlotMin, mKnk, mBelwKnkPts)\n",
    "mAbveKnk = np.linspace(mKnk, mPlotMax, mAbveKnkPts)\n",
    "mFullPts = np.linspace(mPlotMin, mPlotMax, mBelwKnkPts+mAbveKnkPts)\n",
    "\n",
    "plt.figure(figsize=(12, 8))\n",
    "\n",
    "plt.plot(mFullPts, baseAgent_Inf.solution[0].cFunc(mFullPts), color=\"black\")\n",
    "plt.plot(mBelwKnk, cFunc_Uncnst(mBelwKnk), color=\"black\", linestyle=\"--\")\n",
    "plt.plot(mAbveKnk, cFunc_Uncnst(mAbveKnk), color=\"black\", linewidth=2.5)\n",
    "plt.plot(mBelwKnk, cFunc_TopBnd(mBelwKnk), color=\"black\", linewidth=2.5)\n",
    "plt.plot(mAbveKnk, cFunc_TopBnd(mAbveKnk), color=\"black\", linestyle=\"--\")\n",
    "plt.plot(mBelwKnk, cFunc_BotBnd(mBelwKnk), color=\"black\", linewidth=2.5)\n",
    "plt.plot(mAbveKnk, cFunc_BotBnd(mAbveKnk), color=\"black\", linewidth=2.5)\n",
    "plt.tick_params(labelbottom=False, labelleft=False, left='off',\n",
    "                right='off', bottom='off', top='off')\n",
    "plt.xlim(mPlotMin, mPlotMax)\n",
    "plt.ylim(mPlotMin, 1.12*cFunc_Uncnst(mPlotMax))\n",
    "plt.text(mPlotMin, 1.12*cFunc_Uncnst(mPlotMax)+0.05, \"$c$\", fontsize=22)\n",
    "plt.text(mPlotMax+0.1, mPlotMin, \"$m$\", fontsize=22)\n",
    "plt.text(2.5, 1, r'$c(m)$', fontsize=22, fontweight='bold')\n",
    "if latexExists:\n",
    "    plt.text(6, 5, r'$\\overline{\\overline{c}}(m)= \\overline{\\MPC}m = (1-\\UnempPrb^{1/\\CRRA}\\pmb{\\text{\\TH}}_{R})m$',\n",
    "             fontsize=22, fontweight='bold')\n",
    "else:\n",
    "    plt.text(6, 5, r'$\\overline{\\overline{c}}(m)= \\overline{\\MPC}m = (1-\\UnempPrb^{1/\\CRRA}\\Phi_{R})m$',\n",
    "             fontsize=22, fontweight='bold')\n",
    "plt.text(2.10, 3.8, cMaxLabel, fontsize=22, fontweight='bold')\n",
    "plt.text(\n",
    "    9, 4.1, r'Upper Bound $ = $ Min $[\\overline{\\overline{c}}(m),\\overline{c}(m)]$', fontsize=22, fontweight='bold')\n",
    "plt.text(8, 0.9, cMinLabel, fontsize=22, fontweight='bold')\n",
    "plt.arrow(2.45, 1.05, -0.5, 0.02, head_width=0.05, width=0.001,\n",
    "          facecolor='black', length_includes_head='True')\n",
    "plt.arrow(2.15, 3.88, -0.5, 0.1, head_width=0.05, width=0.001,\n",
    "          facecolor='black', length_includes_head='True')\n",
    "plt.arrow(8.95, 4.20, -0.8, 0.05, head_width=0.1, width=0.015,\n",
    "          facecolor='black', length_includes_head='True')\n",
    "plt.arrow(5.95, 5.05, -0.4, mPlotMin, head_width=0.05, width=0.001,\n",
    "          facecolor='black', length_includes_head='True')\n",
    "plt.arrow(14, 0.70, 0.5, -0.1, head_width=0.05, width=0.001,\n",
    "          facecolor='black', length_includes_head='True')\n",
    "\n",
    "\n",
    "make('cFuncBounds')"
   ]
  },
  {
   "cell_type": "markdown",
   "id": "unauthorized-closer",
   "metadata": {},
   "source": [
    "### [Upper and Lower Limits of the Marginal Propensity to Consume](https://www.econ2.jhu.edu/people/ccarroll/papers/BufferStockTheory/#MPCLimits)\n",
    "\n",
    "The paper shows that as $m_{t}~\\uparrow~\\infty$ the consumption function in the presence of risk gets arbitrarily close to the perfect foresight consumption function.  Defining \\tilde{κ}\n",
    "as the perfect foresight model's MPC, this implies that $\\lim_{m_{t}~\\uparrow~\\infty} c^{\\prime}(m) = $ \\tilde{κ}\n",
    ".\n",
    "\n",
    "The paper also derives an analytical limit $\\bar{\\MPC}$ for the MPC as $m$ approaches 0., its bounding value.  Strict concavity of the consumption function implies that the consumption function will be everywhere below a function $\\bar{\\MPC}m$, and strictly declining everywhere.  The last figure plots the MPC between these two limits."
   ]
  },
  {
   "cell_type": "code",
   "execution_count": null,
   "id": "differential-provision",
   "metadata": {
    "jupyter": {
     "source_hidden": true
    },
    "lines_to_next_cell": 2,
    "tags": []
   },
   "outputs": [],
   "source": [
    "# The last figure shows the upper and lower limits of the MPC\n",
    "\n",
    "# Retrieve parameters (makes code readable)\n",
    "Rfree = baseAgent_Inf.Rfree\n",
    "DiscFac = baseAgent_Inf.DiscFac\n",
    "CRRA = baseAgent_Inf.CRRA\n",
    "PermGro = baseAgent_Inf.PermGroFac[0]\n",
    "mNrmTrg = baseAgent_Inf.solution[0].mNrmTrg\n",
    "mNrmStE = baseAgent_Inf.solution[0].mNrmStE\n",
    "UnempPrb = baseAgent_Inf.UnempPrb\n",
    "\n",
    "mPlotMax = 8\n",
    "\n",
    "plt.figure(figsize=(12, 8))\n",
    "# Set the plot range of m\n",
    "m = np.linspace(0.001, mPlotMax, mPts)\n",
    "\n",
    "# Use the HARK method derivative to get the derivative of cFunc, and which constitutes the MPC\n",
    "MPC = baseAgent_Inf.solution[0].cFunc.derivative(m)\n",
    "\n",
    "# Define the upper bound of MPC\n",
    "κ_Max = (1 - UnempPrb ** (1.0/CRRA)*(Rfree*DiscFac)**(1.0/CRRA)/Rfree)\n",
    "\n",
    "# Define the lower bound of MPC\n",
    "MPCLower = κ_Min\n",
    "\n",
    "kappaDef = r'$\\tilde{\\kappa}\\equiv(1-\\pmb{\\text{\\TH}}_{R})$'\n",
    "if not latexExists:\n",
    "    kappaDef = r'κ̲$\\equiv(1-\\Phi_{R})$'\n",
    "\n",
    "plt.plot(m, MPC, color='black')\n",
    "plt.plot([mPlotMin, mPlotMax], [κ_Max, κ_Max], color='black')\n",
    "plt.plot([mPlotMin, mPlotMax], [κ_Min, κ_Min], color='black')\n",
    "plt.xlim(mPlotMin, mPlotMax)\n",
    "plt.ylim(0, 1)  # MPC bounds are between 0 and 1\n",
    "plt.text(1.5, 0.6, r'$\\MPC(m) \\equiv c^{\\prime}(m)$', fontsize=26, fontweight='bold')\n",
    "if latexExists:\n",
    "    plt.text(5, 0.87, r'$(1-\\UnempPrb^{1/\\CRRA}\\pmb{\\text{\\TH}})\\equiv \\overline{\\MPC}$',\n",
    "             fontsize=26, fontweight='bold')  # Use Thorn character\n",
    "else:\n",
    "    plt.text(5, 0.87, r'$(1-\\UnempPrb^{1/\\CRRA}\\Phi_{R})\\equiv \\overline{\\MPC}$',\n",
    "             fontsize=26, fontweight='bold')  # Use Phi instead of Thorn (alas)\n",
    "\n",
    "plt.text(0.5, 0.07, kappaDef, fontsize=26, fontweight='bold')\n",
    "plt.text(mPlotMax+0.05, mPlotMin, \"$m$\", fontsize=26)\n",
    "plt.arrow(1.45, 0.61, -0.4, mPlotMin, head_width=0.02, width=0.001,\n",
    "          facecolor='black', length_includes_head='True')\n",
    "plt.arrow(2.2, 0.07, 0.2, -0.01, head_width=0.02, width=0.001,\n",
    "          facecolor='black', length_includes_head='True')\n",
    "plt.arrow(4.95, 0.895, -0.2, 0.03, head_width=0.02, width=0.001,\n",
    "          facecolor='black', length_includes_head='True')\n",
    "\n",
    "make('MPCLimits')"
   ]
  },
  {
   "cell_type": "markdown",
   "id": "painful-chester",
   "metadata": {},
   "source": [
    "# Summary\n",
    "\n",
    "[Two tables in the paper](https://econ-ark.github.io/BufferStockTheory/#Factors-Defined-And-Compared) summarize the various definitions, and then articulate conditions required for the problem to have a nondegenerate solution.  Among the nondegenerate cases, the most interesting result is that if the Growth Impatience Condition holds there will be a target level of wealth."
   ]
  },
  {
   "cell_type": "markdown",
   "id": "extra-shepherd",
   "metadata": {},
   "source": [
    "### Appendix: Options for Interacting With This Notebook <a id='optionsForInstalling'></a>\n",
    "\n",
    "1. [View (static version)](https://github.com/llorracc/BufferStockTheory/blob/master/Code/Python/BufferStockTheory.ipynb) on GitHub (warning:  GitHub does not render Jupyter notebooks reliably)\n",
    "1. [Launch Online Interactive Version](https://econ-ark.org/materials/BufferStockTheory/#launch)\n",
    "1. For fast (local) execution, install [econ-ark](http://github.com/econ-ark) on your computer ([QUICK START GUIDE](https://github.com/econ-ark/HARK/blob/master/README.md)) then follow these instructions to retrieve the full contents of the `BufferStockTheory` [REMARK](https://github.com/econ-ark/REMARK):\n",
    "   1. At a command line, change the working directory to the one where you want to install\n",
    "       * On unix, if you install in the `/tmp` directory, the installation will disappear after a reboot:\n",
    "       * `cd /tmp`\n",
    "   1. `git clone https://github.com/econ-ark/REMARK --recursive`\n",
    "   1. `cd REMARK/REMARKs/BufferStockTheory`\n",
    "   1. `jupyter notebook BufferStockTheory.ipynb`"
   ]
  },
  {
   "cell_type": "markdown",
   "id": "related-chosen",
   "metadata": {},
   "source": [
    "### Appendix: Perfect foresight agent failing both the FHWC and RIC"
   ]
  },
  {
   "cell_type": "code",
   "execution_count": null,
   "id": "collective-trick",
   "metadata": {
    "jupyter": {
     "source_hidden": true
    },
    "lines_to_next_cell": 2,
    "tags": []
   },
   "outputs": [],
   "source": [
    "PFGICRawHoldsFHWCFailsRICFails_par = copy(base_params)\n",
    "\n",
    "# Replace parameters.\n",
    "PFGICRawHoldsFHWCFailsRICFails_par['Rfree'] = 0.98\n",
    "PFGICRawHoldsFHWCFailsRICFails_par['DiscFac'] = 1\n",
    "PFGICRawHoldsFHWCFailsRICFails_par['PermGroFac'] = [0.99]\n",
    "PFGICRawHoldsFHWCFailsRICFails_par['CRRA'] = 2\n",
    "PFGICRawHoldsFHWCFailsRICFails_par['BoroCnstArt'] = 0\n",
    "PFGICRawHoldsFHWCFailsRICFails_par['T_cycle'] = 0\n",
    "PFGICRawHoldsFHWCFailsRICFails_par['cycles'] = 0\n",
    "PFGICRawHoldsFHWCFailsRICFails_par['quiet'] = False\n",
    "\n",
    "# Create the agent\n",
    "RichButPatientPFConstrainedAgent = PerfForesightConsumerType(**PFGICRawHoldsFHWCFailsRICFails_par)\n",
    "# Check conditions\n",
    "RichButPatientPFConstrainedAgent.check_conditions(verbose=3)\n",
    "# Solve\n",
    "RichButPatientPFConstrainedAgent.solve()\n",
    "\n",
    "# Plot\n",
    "mPlotMin, mPlotMax = 1, 9.5\n",
    "plt.figure(figsize=(8, 4))\n",
    "m_grid = np.linspace(mPlotMin, mPlotMax, 500)\n",
    "plt.plot(m_grid-1, RichButPatientPFConstrainedAgent.solution[0].cFunc(m_grid), color=\"black\")\n",
    "plt.text(mPlotMax-1+0.05, 1, r\"$b$\", fontsize=26)\n",
    "plt.text(mPlotMin-1, 1.017, r\"$c$\", fontsize=26)\n",
    "plt.xlim(mPlotMin-1, mPlotMax-1)\n",
    "plt.ylim(mPlotMin, 1.016)\n",
    "\n",
    "make('PFGICRawHoldsFHWCFailsRICFails')"
   ]
  }
 ],
 "metadata": {
  "jupytext": {
   "cell_metadata_filter": "ExecuteTime,autoscroll,heading_collapsed,hidden,slideshow,title,tags,jupyter,-hide_ouput,-code_folding",
   "cell_metadata_json": true,
   "encoding": "# -*- coding: utf-8 -*-",
   "formats": "ipynb,py:percent",
   "notebook_metadata_filter": "all"
  },
  "kernelspec": {
   "display_name": "Python 3",
   "language": "python",
   "name": "python3"
  },
  "language_info": {
   "codemirror_mode": {
    "name": "ipython",
    "version": 3
   },
   "file_extension": ".py",
   "mimetype": "text/x-python",
   "name": "python",
   "nbconvert_exporter": "python",
   "pygments_lexer": "ipython3",
   "version": "3.8.8"
  },
  "latex_envs": {
   "LaTeX_envs_menu_present": true,
   "autoclose": false,
   "autocomplete": false,
   "bibliofile": "biblio.bib",
   "cite_by": "apalike",
   "current_citInitial": 1,
   "eqLabelWithNumbers": true,
   "eqNumInitial": 1,
   "hotkeys": {
    "equation": "Ctrl-E",
    "itemize": "Ctrl-I"
   },
   "labels_anchors": false,
   "latex_user_defs": false,
   "report_style_numbering": false,
   "user_envs_cfg": false
  }
 },
 "nbformat": 4,
 "nbformat_minor": 5
}
